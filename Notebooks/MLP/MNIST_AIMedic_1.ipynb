{
  "nbformat": 4,
  "nbformat_minor": 0,
  "metadata": {
    "colab": {
      "name": "MNIST-AIMedic_1.ipynb",
      "provenance": [],
      "collapsed_sections": []
    },
    "kernelspec": {
      "name": "python3",
      "display_name": "Python 3"
    },
    "language_info": {
      "name": "python"
    },
    "accelerator": "GPU"
  },
  "cells": [
    {
      "cell_type": "markdown",
      "metadata": {
        "id": "DwQBaqcWOGJF"
      },
      "source": [
        "# Load Data"
      ]
    },
    {
      "cell_type": "code",
      "metadata": {
        "id": "dUMX4WyMn7a2"
      },
      "source": [
        "import numpy as np\n",
        "import matplotlib.pyplot as plt"
      ],
      "execution_count": null,
      "outputs": []
    },
    {
      "cell_type": "code",
      "metadata": {
        "id": "VKenNJy2oP5c"
      },
      "source": [
        "data = np.loadtxt('sample_data/mnist_train_small.csv', delimiter=',')"
      ],
      "execution_count": null,
      "outputs": []
    },
    {
      "cell_type": "code",
      "metadata": {
        "id": "E8V2yzdZodi8"
      },
      "source": [
        "y = data[:, 0]\n",
        "X = data[:, 1:]"
      ],
      "execution_count": null,
      "outputs": []
    },
    {
      "cell_type": "markdown",
      "metadata": {
        "id": "ieXips7XON7s"
      },
      "source": [
        "# Shuffle and Split"
      ]
    },
    {
      "cell_type": "code",
      "metadata": {
        "colab": {
          "base_uri": "https://localhost:8080/"
        },
        "id": "niYPNZIDIiTP",
        "outputId": "8a8b5f5b-5508-403d-fd4b-0df6f9eabfc0"
      },
      "source": [
        "np.random.permutation(10)"
      ],
      "execution_count": null,
      "outputs": [
        {
          "output_type": "execute_result",
          "data": {
            "text/plain": [
              "array([0, 6, 3, 4, 7, 5, 1, 2, 9, 8])"
            ]
          },
          "metadata": {
            "tags": []
          },
          "execution_count": 13
        }
      ]
    },
    {
      "cell_type": "code",
      "metadata": {
        "id": "5DKQd_3JHyCp"
      },
      "source": [
        "def unison_shuffle(a, b):\n",
        "    inx = np.random.permutation(a.shape[0])\n",
        "    return a[inx], b[inx]"
      ],
      "execution_count": null,
      "outputs": []
    },
    {
      "cell_type": "code",
      "metadata": {
        "id": "Yv3hzw_eIG7c"
      },
      "source": [
        "X, y = unison_shuffle(X, y)"
      ],
      "execution_count": null,
      "outputs": []
    },
    {
      "cell_type": "code",
      "metadata": {
        "colab": {
          "base_uri": "https://localhost:8080/",
          "height": 286
        },
        "id": "qxIGEO5FJp1t",
        "outputId": "1ba6cb5f-cf5c-42cd-b7b5-9997340cdb5a"
      },
      "source": [
        "plt.imshow(X[10:20].reshape(280, 28), cmap='gray')"
      ],
      "execution_count": null,
      "outputs": [
        {
          "output_type": "execute_result",
          "data": {
            "text/plain": [
              "<matplotlib.image.AxesImage at 0x7f964cf9f390>"
            ]
          },
          "metadata": {
            "tags": []
          },
          "execution_count": 35
        },
        {
          "output_type": "display_data",
          "data": {
            "image/png": "[encoded data removed]",
            "text/plain": [
              "<Figure size 432x288 with 1 Axes>"
            ]
          },
          "metadata": {
            "tags": [],
            "needs_background": "light"
          }
        }
      ]
    },
    {
      "cell_type": "code",
      "metadata": {
        "id": "tSGfyLyfJxCE"
      },
      "source": [
        "split = int(X.shape[0] * 0.8)\n",
        "\n",
        "X_train = X[:split]\n",
        "X_val = X[split:]\n",
        "\n",
        "y_train = y[:split]\n",
        "y_val = y[split:]"
      ],
      "execution_count": null,
      "outputs": []
    },
    {
      "cell_type": "code",
      "metadata": {
        "id": "TWymYb-_MZhN"
      },
      "source": [
        "X_train = X_train / 255.\n",
        "X_val = X_val / 255."
      ],
      "execution_count": null,
      "outputs": []
    },
    {
      "cell_type": "code",
      "metadata": {
        "id": "BgsEd7EUM1ya"
      },
      "source": [
        "import tensorflow.keras\n",
        "from tensorflow.keras.models import Sequential\n",
        "from tensorflow.keras.layers import Dense\n",
        "from tensorflow.keras.utils import to_categorical\n",
        "from tensorflow.keras.optimizers import Adam"
      ],
      "execution_count": null,
      "outputs": []
    },
    {
      "cell_type": "code",
      "metadata": {
        "id": "OdvktMoJNv-4"
      },
      "source": [
        "Y_train = to_categorical(y_train)\n",
        "Y_val = to_categorical(y_val)"
      ],
      "execution_count": null,
      "outputs": []
    },
    {
      "cell_type": "markdown",
      "metadata": {
        "id": "ZG3LV19qOZQ9"
      },
      "source": [
        "# Model\n"
      ]
    },
    {
      "cell_type": "code",
      "metadata": {
        "id": "TswD7zpQN_yZ"
      },
      "source": [
        "model = Sequential()\n",
        "\n",
        "model.add(Dense(200, activation='relu', input_dim=784))\n",
        "model.add(Dense(10, activation='softmax'))"
      ],
      "execution_count": null,
      "outputs": []
    },
    {
      "cell_type": "code",
      "metadata": {
        "colab": {
          "base_uri": "https://localhost:8080/"
        },
        "id": "PCy5TafXOoVO",
        "outputId": "936d828b-aa06-4202-b857-8c75eeb056c3"
      },
      "source": [
        "model.summary()"
      ],
      "execution_count": null,
      "outputs": [
        {
          "output_type": "stream",
          "text": [
            "Model: \"sequential_2\"\n",
            "_________________________________________________________________\n",
            "Layer (type)                 Output Shape              Param #   \n",
            "=================================================================\n",
            "dense_3 (Dense)              (None, 200)               157000    \n",
            "_________________________________________________________________\n",
            "dense_4 (Dense)              (None, 10)                2010      \n",
            "=================================================================\n",
            "Total params: 159,010\n",
            "Trainable params: 159,010\n",
            "Non-trainable params: 0\n",
            "_________________________________________________________________\n"
          ],
          "name": "stdout"
        }
      ]
    },
    {
      "cell_type": "code",
      "metadata": {
        "id": "yo5z18wpOpZm"
      },
      "source": [
        "# model.compile(optimizer='Adam', loss='categorical_crossentropy', metrics=['acc'])\n",
        "model.compile(optimizer=Adam(learning_rate=0.0001), loss='categorical_crossentropy', metrics=['acc'])"
      ],
      "execution_count": null,
      "outputs": []
    },
    {
      "cell_type": "code",
      "metadata": {
        "colab": {
          "base_uri": "https://localhost:8080/"
        },
        "id": "4lK5YxGpPkET",
        "outputId": "cd2464e5-00b9-42fc-c486-420d1b66ba28"
      },
      "source": [
        "history = model.fit(X_train, Y_train, batch_size=32, epochs=30, validation_data=(X_val, Y_val))"
      ],
      "execution_count": null,
      "outputs": [
        {
          "output_type": "stream",
          "text": [
            "Epoch 1/30\n",
            "500/500 [==============================] - 1s 2ms/step - loss: 2.0390e-04 - acc: 1.0000 - val_loss: 0.1759 - val_acc: 0.9670\n",
            "Epoch 2/30\n",
            "500/500 [==============================] - 1s 2ms/step - loss: 1.5606e-04 - acc: 1.0000 - val_loss: 0.1778 - val_acc: 0.9688\n",
            "Epoch 3/30\n",
            "500/500 [==============================] - 1s 2ms/step - loss: 1.2466e-04 - acc: 1.0000 - val_loss: 0.1794 - val_acc: 0.9663\n",
            "Epoch 4/30\n",
            "500/500 [==============================] - 1s 3ms/step - loss: 1.0571e-04 - acc: 1.0000 - val_loss: 0.1812 - val_acc: 0.9670\n",
            "Epoch 5/30\n",
            "500/500 [==============================] - 1s 2ms/step - loss: 8.7035e-05 - acc: 1.0000 - val_loss: 0.1838 - val_acc: 0.9678\n",
            "Epoch 6/30\n",
            "500/500 [==============================] - 1s 2ms/step - loss: 7.6363e-05 - acc: 1.0000 - val_loss: 0.1829 - val_acc: 0.9680\n",
            "Epoch 7/30\n",
            "500/500 [==============================] - 1s 2ms/step - loss: 6.5639e-05 - acc: 1.0000 - val_loss: 0.1842 - val_acc: 0.9680\n",
            "Epoch 8/30\n",
            "500/500 [==============================] - 1s 2ms/step - loss: 5.7792e-05 - acc: 1.0000 - val_loss: 0.1871 - val_acc: 0.9680\n",
            "Epoch 9/30\n",
            "500/500 [==============================] - 1s 2ms/step - loss: 5.0569e-05 - acc: 1.0000 - val_loss: 0.1876 - val_acc: 0.9675\n",
            "Epoch 10/30\n",
            "500/500 [==============================] - 1s 2ms/step - loss: 4.4519e-05 - acc: 1.0000 - val_loss: 0.1911 - val_acc: 0.9678\n",
            "Epoch 11/30\n",
            "500/500 [==============================] - 1s 2ms/step - loss: 3.8627e-05 - acc: 1.0000 - val_loss: 0.1933 - val_acc: 0.9678\n",
            "Epoch 12/30\n",
            "500/500 [==============================] - 1s 2ms/step - loss: 3.4364e-05 - acc: 1.0000 - val_loss: 0.1933 - val_acc: 0.9682\n",
            "Epoch 13/30\n",
            "500/500 [==============================] - 1s 2ms/step - loss: 3.0862e-05 - acc: 1.0000 - val_loss: 0.1961 - val_acc: 0.9680\n",
            "Epoch 14/30\n",
            "500/500 [==============================] - 1s 2ms/step - loss: 2.7078e-05 - acc: 1.0000 - val_loss: 0.1973 - val_acc: 0.9685\n",
            "Epoch 15/30\n",
            "500/500 [==============================] - 1s 2ms/step - loss: 2.4208e-05 - acc: 1.0000 - val_loss: 0.1983 - val_acc: 0.9690\n",
            "Epoch 16/30\n",
            "500/500 [==============================] - 1s 2ms/step - loss: 2.1340e-05 - acc: 1.0000 - val_loss: 0.2019 - val_acc: 0.9688\n",
            "Epoch 17/30\n",
            "500/500 [==============================] - 1s 2ms/step - loss: 1.9079e-05 - acc: 1.0000 - val_loss: 0.2014 - val_acc: 0.9682\n",
            "Epoch 18/30\n",
            "500/500 [==============================] - 1s 2ms/step - loss: 1.7114e-05 - acc: 1.0000 - val_loss: 0.2036 - val_acc: 0.9693\n",
            "Epoch 19/30\n",
            "500/500 [==============================] - 1s 2ms/step - loss: 1.4986e-05 - acc: 1.0000 - val_loss: 0.2050 - val_acc: 0.9688\n",
            "Epoch 20/30\n",
            "500/500 [==============================] - 1s 2ms/step - loss: 1.3437e-05 - acc: 1.0000 - val_loss: 0.2084 - val_acc: 0.9685\n",
            "Epoch 21/30\n",
            "500/500 [==============================] - 1s 2ms/step - loss: 1.1990e-05 - acc: 1.0000 - val_loss: 0.2084 - val_acc: 0.9680\n",
            "Epoch 22/30\n",
            "500/500 [==============================] - 1s 2ms/step - loss: 1.0827e-05 - acc: 1.0000 - val_loss: 0.2103 - val_acc: 0.9688\n",
            "Epoch 23/30\n",
            "500/500 [==============================] - 1s 2ms/step - loss: 9.7819e-06 - acc: 1.0000 - val_loss: 0.2118 - val_acc: 0.9685\n",
            "Epoch 24/30\n",
            "500/500 [==============================] - 1s 2ms/step - loss: 8.6199e-06 - acc: 1.0000 - val_loss: 0.2135 - val_acc: 0.9682\n",
            "Epoch 25/30\n",
            "500/500 [==============================] - 1s 2ms/step - loss: 7.5778e-06 - acc: 1.0000 - val_loss: 0.2141 - val_acc: 0.9690\n",
            "Epoch 26/30\n",
            "500/500 [==============================] - 1s 2ms/step - loss: 6.8109e-06 - acc: 1.0000 - val_loss: 0.2179 - val_acc: 0.9682\n",
            "Epoch 27/30\n",
            "500/500 [==============================] - 1s 2ms/step - loss: 6.1351e-06 - acc: 1.0000 - val_loss: 0.2186 - val_acc: 0.9682\n",
            "Epoch 28/30\n",
            "500/500 [==============================] - 1s 2ms/step - loss: 5.3875e-06 - acc: 1.0000 - val_loss: 0.2218 - val_acc: 0.9688\n",
            "Epoch 29/30\n",
            "500/500 [==============================] - 1s 2ms/step - loss: 4.8934e-06 - acc: 1.0000 - val_loss: 0.2224 - val_acc: 0.9682\n",
            "Epoch 30/30\n",
            "500/500 [==============================] - 1s 2ms/step - loss: 4.3069e-06 - acc: 1.0000 - val_loss: 0.2240 - val_acc: 0.9678\n"
          ],
          "name": "stdout"
        }
      ]
    },
    {
      "cell_type": "code",
      "metadata": {
        "colab": {
          "base_uri": "https://localhost:8080/",
          "height": 282
        },
        "id": "dmzj9ecaQd9m",
        "outputId": "5faf93c4-ea03-4ee4-a559-8fa157cfe8ed"
      },
      "source": [
        "plt.plot(history.history['acc'], 'b-')\n",
        "plt.plot(history.history['val_acc'], 'r-')"
      ],
      "execution_count": null,
      "outputs": [
        {
          "output_type": "execute_result",
          "data": {
            "text/plain": [
              "[<matplotlib.lines.Line2D at 0x7f9633242250>]"
            ]
          },
          "metadata": {
            "tags": []
          },
          "execution_count": 75
        },
        {
          "output_type": "display_data",
          "data": {
            "image/png": "[encoded data removed]",
            "text/plain": [
              "<Figure size 432x288 with 1 Axes>"
            ]
          },
          "metadata": {
            "tags": [],
            "needs_background": "light"
          }
        }
      ]
    },
    {
      "cell_type": "code",
      "metadata": {
        "colab": {
          "base_uri": "https://localhost:8080/",
          "height": 282
        },
        "id": "Lu1ZQWnIRdQe",
        "outputId": "01d94805-6570-439f-8252-7cf929cbed6a"
      },
      "source": [
        "plt.plot(history.history['loss'], 'b-')\n",
        "# plt.plot(history.history['val_loss'], 'r-')"
      ],
      "execution_count": null,
      "outputs": [
        {
          "output_type": "execute_result",
          "data": {
            "text/plain": [
              "[<matplotlib.lines.Line2D at 0x7f9633563f50>]"
            ]
          },
          "metadata": {
            "tags": []
          },
          "execution_count": 79
        },
        {
          "output_type": "display_data",
          "data": {
            "image/png": "[encoded data removed]",
            "text/plain": [
              "<Figure size 432x288 with 1 Axes>"
            ]
          },
          "metadata": {
            "tags": [],
            "needs_background": "light"
          }
        }
      ]
    },
    {
      "cell_type": "code",
      "metadata": {
        "id": "2pCg3MCGRpXg"
      },
      "source": [
        ""
      ],
      "execution_count": null,
      "outputs": []
    }
  ]
}