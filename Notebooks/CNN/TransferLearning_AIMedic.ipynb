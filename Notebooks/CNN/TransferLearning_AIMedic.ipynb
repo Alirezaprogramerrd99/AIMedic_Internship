{
  "nbformat": 4,
  "nbformat_minor": 0,
  "metadata": {
    "accelerator": "GPU",
    "colab": {
      "name": "TransferLearning-AIMedic.ipynb",
      "provenance": [],
      "collapsed_sections": [
        "PBDcG6JigAUg",
        "OF7DFLItgFpR",
        "L50C60DegIxL",
        "eRGFwuiultkU",
        "9Fm-GHVSlxPt",
        "t430WxQ8uB5i"
      ],
      "toc_visible": true
    },
    "kernelspec": {
      "display_name": "Python 3",
      "name": "python3"
    }
  },
  "cells": [
    {
      "cell_type": "markdown",
      "metadata": {
        "id": "PBDcG6JigAUg"
      },
      "source": [
        "# Download Dataset"
      ]
    },
    {
      "cell_type": "code",
      "metadata": {
        "id": "7eIMGE0ZevLq"
      },
      "source": [
        "!pip install -q kaggle"
      ],
      "execution_count": null,
      "outputs": []
    },
    {
      "cell_type": "code",
      "metadata": {
        "id": "KJHaxJzQfDWi"
      },
      "source": [
        "!mkdir ~/.kaggle\n",
        "!cp kaggle.json ~/.kaggle/\n",
        "!chmod 600 ~/.kaggle/kaggle.json"
      ],
      "execution_count": null,
      "outputs": []
    },
    {
      "cell_type": "code",
      "metadata": {
        "colab": {
          "base_uri": "https://localhost:8080/"
        },
        "id": "UmTVcSyHfOJP",
        "outputId": "2ae7cdc9-7bd1-42ba-a7d6-1d9722effc96"
      },
      "source": [
        "!kaggle datasets list"
      ],
      "execution_count": null,
      "outputs": [
        {
          "output_type": "stream",
          "text": [
            "Warning: Looks like you're using an outdated API Version, please consider updating (server 1.5.12 / client 1.5.4)\n",
            "ref                                                         title                                              size  lastUpdated          downloadCount  \n",
            "----------------------------------------------------------  ------------------------------------------------  -----  -------------------  -------------  \n",
            "gpreda/reddit-vaccine-myths                                 Reddit Vaccine Myths                              233KB  2021-08-15 09:48:42          10724  \n",
            "crowww/a-large-scale-fish-dataset                           A Large Scale Fish Dataset                          3GB  2021-04-28 17:03:01           6544  \n",
            "imsparsh/musicnet-dataset                                   MusicNet Dataset                                   22GB  2021-02-18 14:12:19           2470  \n",
            "dhruvildave/wikibooks-dataset                               Wikibooks Dataset                                   2GB  2021-07-03 18:37:20           2654  \n",
            "promptcloud/careerbuilder-job-listing-2020                  Careerbuilder Job Listing 2020                     42MB  2021-03-05 06:59:52           1610  \n",
            "fatiimaezzahra/famous-iconic-women                          Famous Iconic Women                               838MB  2021-02-28 14:56:00           1128  \n",
            "mathurinache/twitter-edge-nodes                             Twitter Edge Nodes                                342MB  2021-03-08 06:43:04            767  \n",
            "nickuzmenkov/nih-chest-xrays-tfrecords                      NIH Chest X-rays TFRecords                         11GB  2021-03-09 04:49:23            937  \n",
            "alsgroup/end-als                                            End ALS Kaggle Challenge                           12GB  2021-04-08 12:16:37            840  \n",
            "simiotic/github-code-snippets                               GitHub Code Snippets                                7GB  2021-03-03 11:34:39            282  \n",
            "coloradokb/dandelionimages                                  DandelionImages                                     4GB  2021-02-19 20:03:47            714  \n",
            "mathurinache/the-lj-speech-dataset                          The LJ Speech Dataset                               3GB  2021-02-15 09:19:54            290  \n",
            "imsparsh/accentdb-core-extended                             AccentDB - Core & Extended                          6GB  2021-02-17 14:22:54            131  \n",
            "landrykezebou/lvzhdr-tone-mapping-benchmark-dataset-tmonet  LVZ-HDR Tone Mapping Benchmark Dataset (TMO-Net)   24GB  2021-03-01 05:03:40            168  \n",
            "stuartjames/lights                                          LightS: Light Specularity Dataset                  18GB  2021-02-18 14:32:26            116  \n",
            "nickuzmenkov/ranzcr-clip-kfold-tfrecords                    RANZCR CLiP KFold TFRecords                         2GB  2021-02-21 13:29:51            121  \n",
            "datasnaek/youtube-new                                       Trending YouTube Video Statistics                 201MB  2019-06-03 00:56:47         146588  \n",
            "zynicide/wine-reviews                                       Wine Reviews                                       51MB  2017-11-27 17:08:04         141954  \n",
            "residentmario/ramen-ratings                                 Ramen Ratings                                      40KB  2018-01-11 16:04:39          25769  \n",
            "datasnaek/chess                                             Chess Game Dataset (Lichess)                        3MB  2017-09-04 03:09:09          20781  \n"
          ],
          "name": "stdout"
        }
      ]
    },
    {
      "cell_type": "code",
      "metadata": {
        "colab": {
          "base_uri": "https://localhost:8080/"
        },
        "id": "kzCYw7oSfaXp",
        "outputId": "103420ee-84a7-4412-a91d-a8432e650d54"
      },
      "source": [
        "!kaggle datasets download 'ashishjangra27/gender-recognition-200k-images-celeba'"
      ],
      "execution_count": null,
      "outputs": [
        {
          "output_type": "stream",
          "text": [
            "Downloading gender-recognition-200k-images-celeba.zip to /content\n",
            "100% 1.31G/1.32G [00:13<00:00, 135MB/s]\n",
            "100% 1.32G/1.32G [00:13<00:00, 108MB/s]\n"
          ],
          "name": "stdout"
        }
      ]
    },
    {
      "cell_type": "code",
      "metadata": {
        "id": "fFletBTChM3s"
      },
      "source": [
        "!unzip -q gender-recognition-200k-images-celeba.zip"
      ],
      "execution_count": null,
      "outputs": []
    },
    {
      "cell_type": "code",
      "metadata": {
        "id": "GOQuiYV9uoTp"
      },
      "source": [
        "!mkdir Dataset_small\n",
        "!mkdir Dataset_small/Train\n",
        "!mkdir Dataset_small/Train/Male\n",
        "!mkdir Dataset_small/Train/Female\n",
        "!mkdir Dataset_small/Validation\n",
        "!mkdir Dataset_small/Validation/Male\n",
        "!mkdir Dataset_small/Validation/Female"
      ],
      "execution_count": null,
      "outputs": []
    },
    {
      "cell_type": "code",
      "metadata": {
        "id": "7cGnrUi4u2EZ"
      },
      "source": [
        "import os\n",
        "import shutil\n",
        "import random"
      ],
      "execution_count": null,
      "outputs": []
    },
    {
      "cell_type": "code",
      "metadata": {
        "id": "3xVRJfnyu6KN"
      },
      "source": [
        "base_path = 'Dataset'\n",
        "dest_path = 'Dataset_small'\n",
        "subsets = ['Train', 'Validation']\n",
        "classes = ['Male', 'Female']\n",
        "\n",
        "for subset in subsets:\n",
        "    for cls in classes:\n",
        "        files = os.listdir(os.path.join(base_path, subset, cls))\n",
        "        random.shuffle(files)\n",
        "\n",
        "        split = int(0.05 * len(files))\n",
        "\n",
        "        for dir in files[:split]:\n",
        "            shutil.copyfile(\n",
        "                os.path.join(base_path, subset, cls, dir),\n",
        "                os.path.join(dest_path, subset, cls, dir)\n",
        "                )"
      ],
      "execution_count": null,
      "outputs": []
    },
    {
      "cell_type": "markdown",
      "metadata": {
        "id": "OF7DFLItgFpR"
      },
      "source": [
        "# imports"
      ]
    },
    {
      "cell_type": "code",
      "metadata": {
        "id": "iL4w2SKNOA4-"
      },
      "source": [
        "import numpy as np\n",
        "import tensorflow\n",
        "import tensorflow.keras\n",
        "from tensorflow.keras.models import Model, Sequential\n",
        "from tensorflow.keras.layers import Input, Dense, Dropout, GlobalMaxPooling2D\n",
        "from tensorflow.keras.preprocessing.image import ImageDataGenerator\n",
        "from tensorflow.keras.applications.vgg16 import VGG16, preprocess_input\n",
        "from tqdm import tqdm\n",
        "import matplotlib.pyplot as plt"
      ],
      "execution_count": null,
      "outputs": []
    },
    {
      "cell_type": "markdown",
      "metadata": {
        "id": "L50C60DegIxL"
      },
      "source": [
        "# Extracting features and then training a classifier"
      ]
    },
    {
      "cell_type": "markdown",
      "metadata": {
        "id": "eRGFwuiultkU"
      },
      "source": [
        "## Feature Extraction"
      ]
    },
    {
      "cell_type": "code",
      "metadata": {
        "colab": {
          "base_uri": "https://localhost:8080/"
        },
        "id": "GM83hOHW_aut",
        "outputId": "a4e9c925-ab81-42c6-d624-5ce1d66f0b9f"
      },
      "source": [
        "datagen = ImageDataGenerator(rescale=1./255 ,preprocessing_function=preprocess_input)\n",
        "\n",
        "train_datagen = datagen.flow_from_directory('Dataset_small/Train',\n",
        "                                            batch_size=32,\n",
        "                                            shuffle=True,\n",
        "                                            target_size=(224, 224),\n",
        "                                            class_mode='binary')\n",
        "\n",
        "val_datagen = datagen.flow_from_directory('Dataset_small/Validation',\n",
        "                                            batch_size=32,\n",
        "                                            shuffle=True,\n",
        "                                            target_size=(224, 224),\n",
        "                                            class_mode='binary')"
      ],
      "execution_count": null,
      "outputs": [
        {
          "output_type": "stream",
          "text": [
            "Found 7999 images belonging to 2 classes.\n",
            "Found 1129 images belonging to 2 classes.\n"
          ],
          "name": "stdout"
        }
      ]
    },
    {
      "cell_type": "code",
      "metadata": {
        "colab": {
          "base_uri": "https://localhost:8080/"
        },
        "id": "SqUwAW7LwuUa",
        "outputId": "afe76723-ad0c-47c1-f409-f8d1fbbbf3a3"
      },
      "source": [
        "print(int(7999 / 32) * 32)\n",
        "print(int(1129 / 32) * 32)"
      ],
      "execution_count": null,
      "outputs": [
        {
          "output_type": "stream",
          "text": [
            "7968\n",
            "1120\n"
          ],
          "name": "stdout"
        }
      ]
    },
    {
      "cell_type": "code",
      "metadata": {
        "id": "ZMulf-4iPGP5",
        "colab": {
          "base_uri": "https://localhost:8080/"
        },
        "outputId": "66f0a734-e4bc-471b-abae-9206af8809c7"
      },
      "source": [
        "model = VGG16(weights='imagenet', include_top=False)\n",
        "\n",
        "inp = Input(shape=(224, 224, 3), batch_size=32)\n",
        "\n",
        "x = model(inp)\n",
        "x = GlobalMaxPooling2D()(x)\n",
        "\n",
        "model_feature_extractor = Model(inputs=[inp], outputs=[x])"
      ],
      "execution_count": null,
      "outputs": [
        {
          "output_type": "stream",
          "text": [
            "Downloading data from https://storage.googleapis.com/tensorflow/keras-applications/vgg16/vgg16_weights_tf_dim_ordering_tf_kernels_notop.h5\n",
            "58892288/58889256 [==============================] - 0s 0us/step\n"
          ],
          "name": "stdout"
        }
      ]
    },
    {
      "cell_type": "code",
      "metadata": {
        "id": "8plC6vNGMaxS"
      },
      "source": [
        "X_train = np.zeros((7968, 512), dtype=np.float32)\n",
        "y_train = np.zeros((7968))\n",
        "\n",
        "X_val = np.zeros((1120, 512), dtype=np.float32)\n",
        "y_val = np.zeros((1120))"
      ],
      "execution_count": null,
      "outputs": []
    },
    {
      "cell_type": "code",
      "metadata": {
        "id": "D4tR46aAA6Vx"
      },
      "source": [
        "i = 0\n",
        "while i < X_train.shape[0]:\n",
        "    btch = train_datagen.next()\n",
        "    if i + btch[0].shape[0] >  X_train.shape[0]:\n",
        "        btch = (btch[0][:X_train.shape[0] - i], btch[1][:X_train.shape[0] - i])\n",
        "    X_train[i:i+btch[0].shape[0]] = model_feature_extractor.predict(btch[0])\n",
        "    y_train[i:i+btch[0].shape[0]] = btch[1]\n",
        "\n",
        "    i += btch[0].shape[0]\n",
        "\n",
        "\n",
        "i = 0\n",
        "while i < X_val.shape[0]:\n",
        "    btch = val_datagen.next()\n",
        "    if i + btch[0].shape[0] >  X_val.shape[0]:\n",
        "        btch[0] = (btch[0][:X_val.shape[0] - i], btch[1][:X_val.shape[0] - i])\n",
        "    X_val[i:i+btch[0].shape[0]] = model_feature_extractor.predict(btch[0])\n",
        "    y_val[i:i+btch[0].shape[0]] = btch[1]\n",
        "\n",
        "    i += btch[0].shape[0]"
      ],
      "execution_count": null,
      "outputs": []
    },
    {
      "cell_type": "code",
      "metadata": {
        "colab": {
          "base_uri": "https://localhost:8080/"
        },
        "id": "NBIVm43Un-m5",
        "outputId": "68aae3c0-47f8-497f-bafe-d361479e387c"
      },
      "source": [
        "print(X_train.shape, y_train.shape)\n",
        "print(X_val.shape, y_val.shape)"
      ],
      "execution_count": null,
      "outputs": [
        {
          "output_type": "stream",
          "text": [
            "(7968, 512) (7968,)\n",
            "(1120, 512) (1120,)\n"
          ],
          "name": "stdout"
        }
      ]
    },
    {
      "cell_type": "markdown",
      "metadata": {
        "id": "9Fm-GHVSlxPt"
      },
      "source": [
        "## Training classifiers"
      ]
    },
    {
      "cell_type": "code",
      "metadata": {
        "id": "BfjofVXll2qm"
      },
      "source": [
        "from tensorflow.keras.layers import Dense, Dropout\n",
        "from tensorflow.keras.models import Sequential"
      ],
      "execution_count": null,
      "outputs": []
    },
    {
      "cell_type": "code",
      "metadata": {
        "id": "R0OVpEoMpHqy"
      },
      "source": [
        "# del clf_model\n",
        "\n",
        "clf_model =  Sequential()\n",
        "\n",
        "clf_model.add(Dense(128, activation='relu', input_dim=512))\n",
        "clf_model.add(Dropout(0.3))\n",
        "clf_model.add(Dense(1, activation='sigmoid'))\n",
        "\n",
        "clf_model.compile(optimizer='adam', loss='binary_crossentropy', metrics=['acc'])"
      ],
      "execution_count": null,
      "outputs": []
    },
    {
      "cell_type": "code",
      "metadata": {
        "colab": {
          "base_uri": "https://localhost:8080/"
        },
        "id": "0Df9kqartLqU",
        "outputId": "43e1e82e-e711-4146-fa5d-91e77534b8a9"
      },
      "source": [
        "res = clf_model.fit(X_train, y_train.reshape(-1, 1), epochs=50, batch_size=32,\n",
        "              validation_data=(X_val, y_val.reshape(-1, 1)))"
      ],
      "execution_count": null,
      "outputs": [
        {
          "output_type": "stream",
          "text": [
            "Epoch 1/50\n",
            "249/249 [==============================] - 1s 3ms/step - loss: 0.3880 - acc: 0.8279 - val_loss: 0.2416 - val_acc: 0.8991\n",
            "Epoch 2/50\n",
            "249/249 [==============================] - 1s 3ms/step - loss: 0.2578 - acc: 0.8896 - val_loss: 0.2087 - val_acc: 0.9098\n",
            "Epoch 3/50\n",
            "249/249 [==============================] - 1s 2ms/step - loss: 0.2339 - acc: 0.9014 - val_loss: 0.2099 - val_acc: 0.9036\n",
            "Epoch 4/50\n",
            "249/249 [==============================] - 1s 2ms/step - loss: 0.2222 - acc: 0.9037 - val_loss: 0.2013 - val_acc: 0.9107\n",
            "Epoch 5/50\n",
            "249/249 [==============================] - 1s 2ms/step - loss: 0.2147 - acc: 0.9123 - val_loss: 0.2181 - val_acc: 0.9054\n",
            "Epoch 6/50\n",
            "249/249 [==============================] - 1s 2ms/step - loss: 0.2076 - acc: 0.9148 - val_loss: 0.2076 - val_acc: 0.9045\n",
            "Epoch 7/50\n",
            "249/249 [==============================] - 1s 2ms/step - loss: 0.1981 - acc: 0.9168 - val_loss: 0.1991 - val_acc: 0.9125\n",
            "Epoch 8/50\n",
            "249/249 [==============================] - 1s 2ms/step - loss: 0.1906 - acc: 0.9194 - val_loss: 0.2138 - val_acc: 0.9143\n",
            "Epoch 9/50\n",
            "249/249 [==============================] - 1s 2ms/step - loss: 0.1923 - acc: 0.9204 - val_loss: 0.2204 - val_acc: 0.9116\n",
            "Epoch 10/50\n",
            "249/249 [==============================] - 1s 2ms/step - loss: 0.1848 - acc: 0.9239 - val_loss: 0.1994 - val_acc: 0.9179\n",
            "Epoch 11/50\n",
            "249/249 [==============================] - 1s 2ms/step - loss: 0.1756 - acc: 0.9262 - val_loss: 0.2033 - val_acc: 0.9107\n",
            "Epoch 12/50\n",
            "249/249 [==============================] - 1s 2ms/step - loss: 0.1763 - acc: 0.9283 - val_loss: 0.2281 - val_acc: 0.8973\n",
            "Epoch 13/50\n",
            "249/249 [==============================] - 1s 2ms/step - loss: 0.1779 - acc: 0.9266 - val_loss: 0.2128 - val_acc: 0.9161\n",
            "Epoch 14/50\n",
            "249/249 [==============================] - 1s 2ms/step - loss: 0.1705 - acc: 0.9292 - val_loss: 0.2004 - val_acc: 0.9134\n",
            "Epoch 15/50\n",
            "249/249 [==============================] - 1s 2ms/step - loss: 0.1638 - acc: 0.9332 - val_loss: 0.2293 - val_acc: 0.9062\n",
            "Epoch 16/50\n",
            "249/249 [==============================] - 1s 2ms/step - loss: 0.1587 - acc: 0.9356 - val_loss: 0.2165 - val_acc: 0.9080\n",
            "Epoch 17/50\n",
            "249/249 [==============================] - 1s 2ms/step - loss: 0.1563 - acc: 0.9352 - val_loss: 0.2186 - val_acc: 0.9062\n",
            "Epoch 18/50\n",
            "249/249 [==============================] - 1s 2ms/step - loss: 0.1547 - acc: 0.9366 - val_loss: 0.2293 - val_acc: 0.9071\n",
            "Epoch 19/50\n",
            "249/249 [==============================] - 1s 2ms/step - loss: 0.1491 - acc: 0.9386 - val_loss: 0.2156 - val_acc: 0.9036\n",
            "Epoch 20/50\n",
            "249/249 [==============================] - 1s 2ms/step - loss: 0.1536 - acc: 0.9352 - val_loss: 0.2385 - val_acc: 0.8920\n",
            "Epoch 21/50\n",
            "249/249 [==============================] - 1s 2ms/step - loss: 0.1407 - acc: 0.9440 - val_loss: 0.2193 - val_acc: 0.9054\n",
            "Epoch 22/50\n",
            "249/249 [==============================] - 1s 2ms/step - loss: 0.1376 - acc: 0.9450 - val_loss: 0.2218 - val_acc: 0.9107\n",
            "Epoch 23/50\n",
            "249/249 [==============================] - 1s 2ms/step - loss: 0.1356 - acc: 0.9445 - val_loss: 0.2233 - val_acc: 0.9045\n",
            "Epoch 24/50\n",
            "249/249 [==============================] - 1s 2ms/step - loss: 0.1284 - acc: 0.9474 - val_loss: 0.2268 - val_acc: 0.8982\n",
            "Epoch 25/50\n",
            "249/249 [==============================] - 1s 2ms/step - loss: 0.1364 - acc: 0.9436 - val_loss: 0.2369 - val_acc: 0.8991\n",
            "Epoch 26/50\n",
            "249/249 [==============================] - 1s 2ms/step - loss: 0.1249 - acc: 0.9483 - val_loss: 0.2364 - val_acc: 0.8991\n",
            "Epoch 27/50\n",
            "249/249 [==============================] - 1s 2ms/step - loss: 0.1183 - acc: 0.9534 - val_loss: 0.2776 - val_acc: 0.9009\n",
            "Epoch 28/50\n",
            "249/249 [==============================] - 1s 2ms/step - loss: 0.1087 - acc: 0.9559 - val_loss: 0.2534 - val_acc: 0.8991\n",
            "Epoch 29/50\n",
            "249/249 [==============================] - 1s 2ms/step - loss: 0.1093 - acc: 0.9559 - val_loss: 0.2722 - val_acc: 0.8946\n",
            "Epoch 30/50\n",
            "249/249 [==============================] - 1s 2ms/step - loss: 0.1029 - acc: 0.9613 - val_loss: 0.2425 - val_acc: 0.9071\n",
            "Epoch 31/50\n",
            "249/249 [==============================] - 1s 2ms/step - loss: 0.1040 - acc: 0.9593 - val_loss: 0.2411 - val_acc: 0.9036\n",
            "Epoch 32/50\n",
            "249/249 [==============================] - 1s 2ms/step - loss: 0.0999 - acc: 0.9605 - val_loss: 0.2344 - val_acc: 0.9062\n",
            "Epoch 33/50\n",
            "249/249 [==============================] - 1s 2ms/step - loss: 0.0949 - acc: 0.9637 - val_loss: 0.2450 - val_acc: 0.9000\n",
            "Epoch 34/50\n",
            "249/249 [==============================] - 1s 2ms/step - loss: 0.0969 - acc: 0.9623 - val_loss: 0.2701 - val_acc: 0.8938\n",
            "Epoch 35/50\n",
            "249/249 [==============================] - 1s 2ms/step - loss: 0.0874 - acc: 0.9696 - val_loss: 0.2713 - val_acc: 0.9009\n",
            "Epoch 36/50\n",
            "249/249 [==============================] - 1s 2ms/step - loss: 0.0795 - acc: 0.9704 - val_loss: 0.2655 - val_acc: 0.9036\n",
            "Epoch 37/50\n",
            "249/249 [==============================] - 1s 2ms/step - loss: 0.0835 - acc: 0.9677 - val_loss: 0.2654 - val_acc: 0.9045\n",
            "Epoch 38/50\n",
            "249/249 [==============================] - 1s 2ms/step - loss: 0.0766 - acc: 0.9715 - val_loss: 0.2690 - val_acc: 0.9000\n",
            "Epoch 39/50\n",
            "249/249 [==============================] - 1s 2ms/step - loss: 0.0669 - acc: 0.9757 - val_loss: 0.2931 - val_acc: 0.8991\n",
            "Epoch 40/50\n",
            "249/249 [==============================] - 1s 2ms/step - loss: 0.0690 - acc: 0.9746 - val_loss: 0.2912 - val_acc: 0.8991\n",
            "Epoch 41/50\n",
            "249/249 [==============================] - 1s 2ms/step - loss: 0.0752 - acc: 0.9701 - val_loss: 0.2723 - val_acc: 0.8955\n",
            "Epoch 42/50\n",
            "249/249 [==============================] - 1s 2ms/step - loss: 0.0737 - acc: 0.9735 - val_loss: 0.3041 - val_acc: 0.8929\n",
            "Epoch 43/50\n",
            "249/249 [==============================] - 1s 2ms/step - loss: 0.0750 - acc: 0.9709 - val_loss: 0.2885 - val_acc: 0.8973\n",
            "Epoch 44/50\n",
            "249/249 [==============================] - 1s 2ms/step - loss: 0.0658 - acc: 0.9752 - val_loss: 0.3093 - val_acc: 0.9054\n",
            "Epoch 45/50\n",
            "249/249 [==============================] - 1s 2ms/step - loss: 0.0590 - acc: 0.9807 - val_loss: 0.2895 - val_acc: 0.9018\n",
            "Epoch 46/50\n",
            "249/249 [==============================] - 1s 2ms/step - loss: 0.0650 - acc: 0.9754 - val_loss: 0.3313 - val_acc: 0.9036\n",
            "Epoch 47/50\n",
            "249/249 [==============================] - 1s 2ms/step - loss: 0.0556 - acc: 0.9792 - val_loss: 0.3166 - val_acc: 0.9036\n",
            "Epoch 48/50\n",
            "249/249 [==============================] - 1s 2ms/step - loss: 0.0539 - acc: 0.9799 - val_loss: 0.3150 - val_acc: 0.9080\n",
            "Epoch 49/50\n",
            "249/249 [==============================] - 1s 2ms/step - loss: 0.0536 - acc: 0.9818 - val_loss: 0.3415 - val_acc: 0.8955\n",
            "Epoch 50/50\n",
            "249/249 [==============================] - 1s 2ms/step - loss: 0.0509 - acc: 0.9805 - val_loss: 0.3571 - val_acc: 0.9009\n"
          ],
          "name": "stdout"
        }
      ]
    },
    {
      "cell_type": "code",
      "metadata": {
        "colab": {
          "base_uri": "https://localhost:8080/",
          "height": 283
        },
        "id": "IhNWeyMy1z0k",
        "outputId": "18238a16-b8cf-49d1-ca8d-fd53d10ced99"
      },
      "source": [
        "plt.plot(res.history['loss'], 'b-o')\n",
        "plt.plot(res.history['val_loss'], 'r--o')"
      ],
      "execution_count": null,
      "outputs": [
        {
          "output_type": "execute_result",
          "data": {
            "text/plain": [
              "[<matplotlib.lines.Line2D at 0x7fd66e713bd0>]"
            ]
          },
          "metadata": {
            "tags": []
          },
          "execution_count": 13
        },
        {
          "output_type": "display_data",
          "data": {
            "image/png": "[encoded data removed]",
            "text/plain": [
              "<Figure size 432x288 with 1 Axes>"
            ]
          },
          "metadata": {
            "tags": [],
            "needs_background": "light"
          }
        }
      ]
    },
    {
      "cell_type": "code",
      "metadata": {
        "colab": {
          "base_uri": "https://localhost:8080/",
          "height": 282
        },
        "id": "-37ftSlg17xf",
        "outputId": "03e4cb7b-0a9a-4d71-c013-ee290f5a1260"
      },
      "source": [
        "plt.plot(res.history['acc'], 'b-o')\n",
        "plt.plot(res.history['val_acc'], 'r--o')"
      ],
      "execution_count": null,
      "outputs": [
        {
          "output_type": "execute_result",
          "data": {
            "text/plain": [
              "[<matplotlib.lines.Line2D at 0x7fd67e1257d0>]"
            ]
          },
          "metadata": {
            "tags": []
          },
          "execution_count": 14
        },
        {
          "output_type": "display_data",
          "data": {
            "image/png": "[encoded data removed]",
            "text/plain": [
              "<Figure size 432x288 with 1 Axes>"
            ]
          },
          "metadata": {
            "tags": [],
            "needs_background": "light"
          }
        }
      ]
    },
    {
      "cell_type": "markdown",
      "metadata": {
        "id": "SWj0cFJSuB5h"
      },
      "source": [
        "# Adding classifier to model and training classifier"
      ]
    },
    {
      "cell_type": "markdown",
      "metadata": {
        "id": "t430WxQ8uB5i"
      },
      "source": [
        "## DataGenerators"
      ]
    },
    {
      "cell_type": "code",
      "metadata": {
        "colab": {
          "base_uri": "https://localhost:8080/"
        },
        "id": "uf9QfJncuB5i",
        "outputId": "6414551e-ed7f-4289-ba92-1efba4a2f043"
      },
      "source": [
        "datagen = ImageDataGenerator(rescale=1./255, preprocessing_function=preprocess_input)\n",
        "\n",
        "train_datagen = datagen.flow_from_directory('Dataset_small/Train',\n",
        "                                            batch_size=32,\n",
        "                                            shuffle=True,\n",
        "                                            target_size=(224, 224),\n",
        "                                            class_mode='binary')\n",
        "\n",
        "val_datagen = datagen.flow_from_directory('Dataset_small/Validation',\n",
        "                                            batch_size=32,\n",
        "                                            shuffle=True,\n",
        "                                            target_size=(224, 224),\n",
        "                                            class_mode='binary')"
      ],
      "execution_count": null,
      "outputs": [
        {
          "output_type": "stream",
          "text": [
            "Found 7999 images belonging to 2 classes.\n",
            "Found 1129 images belonging to 2 classes.\n"
          ],
          "name": "stdout"
        }
      ]
    },
    {
      "cell_type": "code",
      "metadata": {
        "colab": {
          "base_uri": "https://localhost:8080/"
        },
        "id": "x1yGBOCX2ro6",
        "outputId": "11313cef-6101-4584-e80e-1069fc3cf647"
      },
      "source": [
        "print(7999 / 32)\n",
        "print(1129 / 32)"
      ],
      "execution_count": null,
      "outputs": [
        {
          "output_type": "stream",
          "text": [
            "249.96875\n",
            "35.28125\n"
          ],
          "name": "stdout"
        }
      ]
    },
    {
      "cell_type": "markdown",
      "metadata": {
        "id": "Z11rmDL1zRUF"
      },
      "source": [
        "## Model"
      ]
    },
    {
      "cell_type": "code",
      "metadata": {
        "id": "w0CDyUaQuB5j"
      },
      "source": [
        "CNN_model = VGG16(weights='imagenet', include_top=False)\n",
        "\n",
        "inp = Input(shape=(224, 224, 3))\n",
        "\n",
        "x = CNN_model(inp)\n",
        "x = GlobalMaxPooling2D()(x)\n",
        "\n",
        "x = Dense(128, activation='relu')(x)\n",
        "x = Dropout(0.2)(x)\n",
        "x = Dense(1, activation='sigmoid')(x)\n",
        "\n",
        "full_model = Model(inputs=[inp], outputs=[x])"
      ],
      "execution_count": null,
      "outputs": []
    },
    {
      "cell_type": "code",
      "metadata": {
        "id": "NqDwvFiguB5k"
      },
      "source": [
        "full_model.compile(optimizer='adam', loss='binary_crossentropy', metrics=['acc'])\n",
        "CNN_model.trainable = False"
      ],
      "execution_count": null,
      "outputs": []
    },
    {
      "cell_type": "code",
      "metadata": {
        "colab": {
          "base_uri": "https://localhost:8080/"
        },
        "id": "NWKBxCKM85YE",
        "outputId": "542bbd16-fdac-4c82-d63d-abb00ad24857"
      },
      "source": [
        "full_model.summary()"
      ],
      "execution_count": null,
      "outputs": [
        {
          "output_type": "stream",
          "text": [
            "Model: \"model_2\"\n",
            "_________________________________________________________________\n",
            "Layer (type)                 Output Shape              Param #   \n",
            "=================================================================\n",
            "input_6 (InputLayer)         [(None, 224, 224, 3)]     0         \n",
            "_________________________________________________________________\n",
            "vgg16 (Functional)           (None, None, None, 512)   14714688  \n",
            "_________________________________________________________________\n",
            "global_max_pooling2d_2 (Glob (None, 512)               0         \n",
            "_________________________________________________________________\n",
            "dense_4 (Dense)              (None, 128)               65664     \n",
            "_________________________________________________________________\n",
            "dropout_2 (Dropout)          (None, 128)               0         \n",
            "_________________________________________________________________\n",
            "dense_5 (Dense)              (None, 1)                 129       \n",
            "=================================================================\n",
            "Total params: 14,780,481\n",
            "Trainable params: 65,793\n",
            "Non-trainable params: 14,714,688\n",
            "_________________________________________________________________\n"
          ],
          "name": "stdout"
        }
      ]
    },
    {
      "cell_type": "markdown",
      "metadata": {
        "id": "tg0oZxNRuB5o"
      },
      "source": [
        "## Training classifiers"
      ]
    },
    {
      "cell_type": "code",
      "metadata": {
        "colab": {
          "base_uri": "https://localhost:8080/"
        },
        "id": "unXeNWVHuB5q",
        "outputId": "8f9b230e-c2d1-4076-fa40-038ee79d840b"
      },
      "source": [
        "res = full_model.fit(train_datagen, steps_per_epoch=250, epochs=20, \n",
        "                         validation_data=val_datagen, validation_steps=35)"
      ],
      "execution_count": null,
      "outputs": [
        {
          "output_type": "stream",
          "text": [
            "Epoch 1/20\n",
            "250/250 [==============================] - 100s 396ms/step - loss: 0.7200 - acc: 0.5526 - val_loss: 0.6729 - val_acc: 0.6098\n",
            "Epoch 2/20\n",
            "250/250 [==============================] - 101s 405ms/step - loss: 0.6371 - acc: 0.6426 - val_loss: 0.5232 - val_acc: 0.7366\n",
            "Epoch 3/20\n",
            "250/250 [==============================] - 101s 405ms/step - loss: 0.5239 - acc: 0.7496 - val_loss: 0.4686 - val_acc: 0.7750\n",
            "Epoch 4/20\n",
            "250/250 [==============================] - 101s 404ms/step - loss: 0.4785 - acc: 0.7787 - val_loss: 0.4430 - val_acc: 0.8045\n",
            "Epoch 5/20\n",
            "250/250 [==============================] - 101s 404ms/step - loss: 0.3900 - acc: 0.8261 - val_loss: 0.2371 - val_acc: 0.9054\n",
            "Epoch 6/20\n",
            "250/250 [==============================] - 101s 404ms/step - loss: 0.2649 - acc: 0.8872 - val_loss: 0.3118 - val_acc: 0.8625\n",
            "Epoch 7/20\n",
            "250/250 [==============================] - 101s 402ms/step - loss: 0.2288 - acc: 0.9064 - val_loss: 0.1860 - val_acc: 0.9223\n",
            "Epoch 8/20\n",
            "250/250 [==============================] - 101s 404ms/step - loss: 0.1865 - acc: 0.9259 - val_loss: 0.1740 - val_acc: 0.9304\n",
            "Epoch 9/20\n",
            "250/250 [==============================] - 101s 404ms/step - loss: 0.1643 - acc: 0.9315 - val_loss: 0.1475 - val_acc: 0.9411\n",
            "Epoch 10/20\n",
            "250/250 [==============================] - 101s 404ms/step - loss: 0.1584 - acc: 0.9341 - val_loss: 0.1728 - val_acc: 0.9241\n",
            "Epoch 11/20\n",
            "250/250 [==============================] - 101s 403ms/step - loss: 0.1561 - acc: 0.9382 - val_loss: 0.1864 - val_acc: 0.9232\n",
            "Epoch 12/20\n",
            "250/250 [==============================] - 101s 404ms/step - loss: 0.1407 - acc: 0.9456 - val_loss: 0.2418 - val_acc: 0.9027\n",
            "Epoch 13/20\n",
            "250/250 [==============================] - 101s 403ms/step - loss: 0.1192 - acc: 0.9514 - val_loss: 0.1715 - val_acc: 0.9438\n",
            "Epoch 14/20\n",
            "250/250 [==============================] - 101s 404ms/step - loss: 0.1278 - acc: 0.9489 - val_loss: 0.1824 - val_acc: 0.9321\n",
            "Epoch 15/20\n",
            "250/250 [==============================] - 101s 404ms/step - loss: 0.1077 - acc: 0.9560 - val_loss: 0.1431 - val_acc: 0.9446\n",
            "Epoch 16/20\n",
            "250/250 [==============================] - 101s 404ms/step - loss: 0.1076 - acc: 0.9579 - val_loss: 0.3001 - val_acc: 0.9312\n",
            "Epoch 17/20\n",
            "250/250 [==============================] - 101s 404ms/step - loss: 0.1038 - acc: 0.9604 - val_loss: 0.1346 - val_acc: 0.9473\n",
            "Epoch 18/20\n",
            "250/250 [==============================] - 101s 404ms/step - loss: 0.0904 - acc: 0.9636 - val_loss: 0.1791 - val_acc: 0.9384\n",
            "Epoch 19/20\n",
            "250/250 [==============================] - 101s 404ms/step - loss: 0.0915 - acc: 0.9659 - val_loss: 0.1686 - val_acc: 0.9446\n",
            "Epoch 20/20\n",
            "250/250 [==============================] - 101s 403ms/step - loss: 0.0830 - acc: 0.9684 - val_loss: 0.1670 - val_acc: 0.9438\n"
          ],
          "name": "stdout"
        }
      ]
    },
    {
      "cell_type": "code",
      "metadata": {
        "colab": {
          "base_uri": "https://localhost:8080/",
          "height": 282
        },
        "id": "iUaSp1zQH5X2",
        "outputId": "97cfe639-44f6-485a-c46a-c5ec846e375c"
      },
      "source": [
        "plt.plot(res.history['loss'], 'b-o')\n",
        "plt.plot(res.history['val_loss'], 'r--o')"
      ],
      "execution_count": null,
      "outputs": [
        {
          "output_type": "execute_result",
          "data": {
            "text/plain": [
              "[<matplotlib.lines.Line2D at 0x7fd664411210>]"
            ]
          },
          "metadata": {
            "tags": []
          },
          "execution_count": 32
        },
        {
          "output_type": "display_data",
          "data": {
            "image/png": "[encoded data removed]",
            "text/plain": [
              "<Figure size 432x288 with 1 Axes>"
            ]
          },
          "metadata": {
            "tags": [],
            "needs_background": "light"
          }
        }
      ]
    },
    {
      "cell_type": "code",
      "metadata": {
        "colab": {
          "base_uri": "https://localhost:8080/",
          "height": 282
        },
        "id": "rFSgFeuOH-8q",
        "outputId": "b1617b11-ae06-4927-e8f7-d9f2eaa23d61"
      },
      "source": [
        "plt.plot(res.history['acc'], 'b-o')\n",
        "plt.plot(res.history['val_acc'], 'r--o')"
      ],
      "execution_count": null,
      "outputs": [
        {
          "output_type": "execute_result",
          "data": {
            "text/plain": [
              "[<matplotlib.lines.Line2D at 0x7fd664381290>]"
            ]
          },
          "metadata": {
            "tags": []
          },
          "execution_count": 33
        },
        {
          "output_type": "display_data",
          "data": {
            "image/png": "[encoded data removed]",
            "text/plain": [
              "<Figure size 432x288 with 1 Axes>"
            ]
          },
          "metadata": {
            "tags": [],
            "needs_background": "light"
          }
        }
      ]
    },
    {
      "cell_type": "code",
      "metadata": {
        "id": "RWJsOhuiaNLE"
      },
      "source": [
        "CNN_model.trainable = True"
      ],
      "execution_count": null,
      "outputs": []
    },
    {
      "cell_type": "code",
      "metadata": {
        "colab": {
          "base_uri": "https://localhost:8080/"
        },
        "id": "6J7osetVbdSx",
        "outputId": "1194b92d-e6a7-42e6-92ed-6c4822c6b900"
      },
      "source": [
        "full_model.summary()"
      ],
      "execution_count": null,
      "outputs": [
        {
          "output_type": "stream",
          "text": [
            "Model: \"model_2\"\n",
            "_________________________________________________________________\n",
            "Layer (type)                 Output Shape              Param #   \n",
            "=================================================================\n",
            "input_6 (InputLayer)         [(None, 224, 224, 3)]     0         \n",
            "_________________________________________________________________\n",
            "vgg16 (Functional)           (None, None, None, 512)   14714688  \n",
            "_________________________________________________________________\n",
            "global_max_pooling2d_2 (Glob (None, 512)               0         \n",
            "_________________________________________________________________\n",
            "dense_4 (Dense)              (None, 128)               65664     \n",
            "_________________________________________________________________\n",
            "dropout_2 (Dropout)          (None, 128)               0         \n",
            "_________________________________________________________________\n",
            "dense_5 (Dense)              (None, 1)                 129       \n",
            "=================================================================\n",
            "Total params: 14,780,481\n",
            "Trainable params: 14,780,481\n",
            "Non-trainable params: 0\n",
            "_________________________________________________________________\n"
          ],
          "name": "stdout"
        }
      ]
    },
    {
      "cell_type": "code",
      "metadata": {
        "colab": {
          "base_uri": "https://localhost:8080/"
        },
        "id": "oCUItyOSbetS",
        "outputId": "824dbae9-f3d2-4f4f-86a5-8a6e5e825ca5"
      },
      "source": [
        "res_finetuning = full_model.fit(train_datagen, steps_per_epoch=250, epochs=20, \n",
        "                         validation_data=val_datagen, validation_steps=35)"
      ],
      "execution_count": null,
      "outputs": [
        {
          "output_type": "stream",
          "text": [
            "Epoch 1/20\n",
            "250/250 [==============================] - 99s 397ms/step - loss: 0.0814 - acc: 0.9684 - val_loss: 0.2012 - val_acc: 0.9357\n",
            "Epoch 2/20\n",
            "250/250 [==============================] - 101s 404ms/step - loss: 0.0733 - acc: 0.9716 - val_loss: 0.1738 - val_acc: 0.9482\n",
            "Epoch 3/20\n",
            "250/250 [==============================] - 101s 403ms/step - loss: 0.0673 - acc: 0.9734 - val_loss: 0.2077 - val_acc: 0.9259\n",
            "Epoch 4/20\n",
            "250/250 [==============================] - 101s 404ms/step - loss: 0.0668 - acc: 0.9757 - val_loss: 0.1720 - val_acc: 0.9500\n",
            "Epoch 5/20\n",
            "250/250 [==============================] - 101s 403ms/step - loss: 0.0714 - acc: 0.9709 - val_loss: 0.1546 - val_acc: 0.9455\n",
            "Epoch 6/20\n",
            "250/250 [==============================] - 101s 403ms/step - loss: 0.0851 - acc: 0.9667 - val_loss: 0.1619 - val_acc: 0.9563\n",
            "Epoch 7/20\n",
            "250/250 [==============================] - 101s 403ms/step - loss: 0.0632 - acc: 0.9746 - val_loss: 0.1678 - val_acc: 0.9580\n",
            "Epoch 8/20\n",
            "250/250 [==============================] - 101s 403ms/step - loss: 0.0667 - acc: 0.9749 - val_loss: 0.2198 - val_acc: 0.9393\n",
            "Epoch 9/20\n",
            "250/250 [==============================] - 101s 403ms/step - loss: 0.0566 - acc: 0.9812 - val_loss: 0.1767 - val_acc: 0.9464\n",
            "Epoch 10/20\n",
            "250/250 [==============================] - 101s 403ms/step - loss: 0.0472 - acc: 0.9836 - val_loss: 0.2053 - val_acc: 0.9580\n",
            "Epoch 11/20\n",
            "250/250 [==============================] - 101s 402ms/step - loss: 0.0436 - acc: 0.9829 - val_loss: 0.2735 - val_acc: 0.9375\n",
            "Epoch 12/20\n",
            "250/250 [==============================] - 101s 403ms/step - loss: 0.0577 - acc: 0.9810 - val_loss: 0.1860 - val_acc: 0.9393\n",
            "Epoch 13/20\n",
            "250/250 [==============================] - 101s 403ms/step - loss: 0.0712 - acc: 0.9745 - val_loss: 0.1785 - val_acc: 0.9321\n",
            "Epoch 14/20\n",
            "250/250 [==============================] - 101s 403ms/step - loss: 0.0819 - acc: 0.9716 - val_loss: 0.1819 - val_acc: 0.9545\n",
            "Epoch 15/20\n",
            "250/250 [==============================] - 101s 402ms/step - loss: 0.0602 - acc: 0.9795 - val_loss: 0.1552 - val_acc: 0.9545\n",
            "Epoch 16/20\n",
            "250/250 [==============================] - 101s 402ms/step - loss: 0.1111 - acc: 0.9639 - val_loss: 0.1717 - val_acc: 0.9429\n",
            "Epoch 17/20\n",
            "250/250 [==============================] - 101s 403ms/step - loss: 0.0668 - acc: 0.9739 - val_loss: 0.2917 - val_acc: 0.9420\n",
            "Epoch 18/20\n",
            "250/250 [==============================] - 101s 403ms/step - loss: 0.0505 - acc: 0.9842 - val_loss: 0.2150 - val_acc: 0.9527\n",
            "Epoch 19/20\n",
            "250/250 [==============================] - 101s 402ms/step - loss: 0.0519 - acc: 0.9811 - val_loss: 0.2039 - val_acc: 0.9312\n",
            "Epoch 20/20\n",
            "250/250 [==============================] - 101s 403ms/step - loss: 0.0542 - acc: 0.9776 - val_loss: 0.2627 - val_acc: 0.9643\n"
          ],
          "name": "stdout"
        }
      ]
    },
    {
      "cell_type": "code",
      "metadata": {
        "colab": {
          "base_uri": "https://localhost:8080/",
          "height": 283
        },
        "id": "rSL13mEfMDDj",
        "outputId": "a7251656-52fc-4b30-e006-978cfe837b82"
      },
      "source": [
        "plt.plot(res_finetuning.history['loss'], 'b-o')\n",
        "plt.plot(res_finetuning.history['val_loss'], 'r--o')"
      ],
      "execution_count": null,
      "outputs": [
        {
          "output_type": "execute_result",
          "data": {
            "text/plain": [
              "[<matplotlib.lines.Line2D at 0x7fd6642d1350>]"
            ]
          },
          "metadata": {
            "tags": []
          },
          "execution_count": 37
        },
        {
          "output_type": "display_data",
          "data": {
            "image/png": "[encoded data removed]",
            "text/plain": [
              "<Figure size 432x288 with 1 Axes>"
            ]
          },
          "metadata": {
            "tags": [],
            "needs_background": "light"
          }
        }
      ]
    },
    {
      "cell_type": "code",
      "metadata": {
        "colab": {
          "base_uri": "https://localhost:8080/",
          "height": 282
        },
        "id": "zTl8T0ImMJRH",
        "outputId": "3d54e91b-2a8a-4793-82f2-0ae105799605"
      },
      "source": [
        "plt.plot(res_finetuning.history['acc'], 'b-o')\n",
        "plt.plot(res_finetuning.history['val_acc'], 'r--o')"
      ],
      "execution_count": null,
      "outputs": [
        {
          "output_type": "execute_result",
          "data": {
            "text/plain": [
              "[<matplotlib.lines.Line2D at 0x7fd6642bb150>]"
            ]
          },
          "metadata": {
            "tags": []
          },
          "execution_count": 38
        },
        {
          "output_type": "display_data",
          "data": {
            "image/png": "[encoded data removed]",
            "text/plain": [
              "<Figure size 432x288 with 1 Axes>"
            ]
          },
          "metadata": {
            "tags": [],
            "needs_background": "light"
          }
        }
      ]
    },
    {
      "cell_type": "code",
      "metadata": {
        "id": "8XrN0oVfcEsC"
      },
      "source": [
        "loss = np.hstack((res.history['loss'], res_finetuning.history['loss']))\n",
        "val_loss = np.hstack((res.history['val_loss'], res_finetuning.history['val_loss']))\n",
        "acc = np.hstack((res.history['acc'], res_finetuning.history['acc']))\n",
        "val_acc = np.hstack((res.history['val_acc'], res_finetuning.history['val_acc']))"
      ],
      "execution_count": null,
      "outputs": []
    },
    {
      "cell_type": "code",
      "metadata": {
        "colab": {
          "base_uri": "https://localhost:8080/",
          "height": 282
        },
        "id": "MKEKJgAccOQm",
        "outputId": "5db9ea5b-86cc-404e-e17f-806f3824378e"
      },
      "source": [
        "plt.plot(loss, 'b-o')\n",
        "plt.plot(val_loss, 'r--o')"
      ],
      "execution_count": null,
      "outputs": [
        {
          "output_type": "execute_result",
          "data": {
            "text/plain": [
              "[<matplotlib.lines.Line2D at 0x7fd66405af10>]"
            ]
          },
          "metadata": {
            "tags": []
          },
          "execution_count": 42
        },
        {
          "output_type": "display_data",
          "data": {
            "image/png": "[encoded data removed]",
            "text/plain": [
              "<Figure size 432x288 with 1 Axes>"
            ]
          },
          "metadata": {
            "tags": [],
            "needs_background": "light"
          }
        }
      ]
    },
    {
      "cell_type": "code",
      "metadata": {
        "colab": {
          "base_uri": "https://localhost:8080/",
          "height": 284
        },
        "id": "LEwUky4wccmQ",
        "outputId": "c2778239-c420-490f-b10c-12fb6041c5ff"
      },
      "source": [
        "plt.plot(acc, 'b-o')\n",
        "plt.plot(val_acc, 'r--o')"
      ],
      "execution_count": null,
      "outputs": [
        {
          "output_type": "execute_result",
          "data": {
            "text/plain": [
              "[<matplotlib.lines.Line2D at 0x7fd6c0185510>]"
            ]
          },
          "metadata": {
            "tags": []
          },
          "execution_count": 43
        },
        {
          "output_type": "display_data",
          "data": {
            "image/png": "[encoded data removed]",
            "text/plain": [
              "<Figure size 432x288 with 1 Axes>"
            ]
          },
          "metadata": {
            "tags": [],
            "needs_background": "light"
          }
        }
      ]
    }
  ]
}