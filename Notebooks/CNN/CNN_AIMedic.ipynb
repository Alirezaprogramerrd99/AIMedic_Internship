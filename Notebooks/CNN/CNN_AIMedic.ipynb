{
  "nbformat": 4,
  "nbformat_minor": 0,
  "metadata": {
    "colab": {
      "name": "CNN-AIMedic.ipynb",
      "provenance": [],
      "collapsed_sections": []
    },
    "kernelspec": {
      "name": "python3",
      "display_name": "Python 3"
    },
    "language_info": {
      "name": "python"
    },
    "accelerator": "GPU"
  },
  "cells": [
    {
      "cell_type": "markdown",
      "metadata": {
        "id": "nKo14LYxuwxR"
      },
      "source": [
        "# Importing and processing data\n"
      ]
    },
    {
      "cell_type": "code",
      "metadata": {
        "id": "4QJorGzKHYUI"
      },
      "source": [
        "import numpy as np\n",
        "import matplotlib.pyplot as plt\n",
        "import tensorflow as tf\n",
        "from tensorflow.keras import Sequential\n",
        "from tensorflow.keras.regularizers import l1, l2\n",
        "from tensorflow.keras.layers import Conv2D, MaxPool2D, Flatten, Dense, Dropout\n",
        "from tensorflow.keras.utils import to_categorical\n",
        "from tensorflow.keras.datasets.cifar10 import load_data"
      ],
      "execution_count": null,
      "outputs": []
    },
    {
      "cell_type": "code",
      "metadata": {
        "id": "S2Ituan8HaAF",
        "colab": {
          "base_uri": "https://localhost:8080/"
        },
        "outputId": "ba59680b-2e2b-4d46-e488-aceedf47dfb5"
      },
      "source": [
        "(X_train, y_train), (X_test, y_test) = load_data()"
      ],
      "execution_count": null,
      "outputs": [
        {
          "output_type": "stream",
          "text": [
            "Downloading data from https://www.cs.toronto.edu/~kriz/cifar-10-python.tar.gz\n",
            "170500096/170498071 [==============================] - 4s 0us/step\n"
          ],
          "name": "stdout"
        }
      ]
    },
    {
      "cell_type": "code",
      "metadata": {
        "colab": {
          "base_uri": "https://localhost:8080/"
        },
        "id": "qCG1Es1Pp74n",
        "outputId": "12e85386-1033-47c2-a49e-01ad25df9fc3"
      },
      "source": [
        "print(X_train.shape, X_test.shape)\n",
        "print(y_train.shape, y_test.shape)"
      ],
      "execution_count": null,
      "outputs": [
        {
          "output_type": "stream",
          "text": [
            "(50000, 32, 32, 3) (10000, 32, 32, 3)\n",
            "(50000, 1) (10000, 1)\n"
          ],
          "name": "stdout"
        }
      ]
    },
    {
      "cell_type": "code",
      "metadata": {
        "id": "n4nKOYjZqLRa"
      },
      "source": [
        "X_train = X_train / 255\n",
        "X_test = X_test / 255\n",
        "\n",
        "Y_train = to_categorical(y_train)\n",
        "Y_test = to_categorical(y_test)"
      ],
      "execution_count": null,
      "outputs": []
    },
    {
      "cell_type": "code",
      "metadata": {
        "id": "nP_IZWNSqXh7"
      },
      "source": [
        "X_train_small = X_train[:20000]\n",
        "Y_train_small = Y_train[:20000]"
      ],
      "execution_count": null,
      "outputs": []
    },
    {
      "cell_type": "code",
      "metadata": {
        "id": "CNMRtIPNqt12"
      },
      "source": [
        "# data, label = X_train, Y_train\n",
        "data, label = X_train_small, Y_train_small\n",
        "\n",
        "n = int(0.8 * data.shape[0])\n",
        "\n",
        "X_train = data[:n]\n",
        "X_val = data[n:]\n",
        "\n",
        "Y_train = label[:n]\n",
        "Y_val = label[n:]"
      ],
      "execution_count": null,
      "outputs": []
    },
    {
      "cell_type": "code",
      "metadata": {
        "colab": {
          "base_uri": "https://localhost:8080/"
        },
        "id": "tkyDncB_znG2",
        "outputId": "ab08f5b2-22ff-45f7-d6d3-ddeece3233b3"
      },
      "source": [
        "X_train.shape"
      ],
      "execution_count": null,
      "outputs": [
        {
          "output_type": "execute_result",
          "data": {
            "text/plain": [
              "(16000, 32, 32, 3)"
            ]
          },
          "metadata": {
            "tags": []
          },
          "execution_count": 7
        }
      ]
    },
    {
      "cell_type": "code",
      "metadata": {
        "colab": {
          "base_uri": "https://localhost:8080/",
          "height": 185
        },
        "id": "Rb7RTAiCrMkn",
        "outputId": "c14964f8-5977-4a31-cb77-7dcd0e40ab97"
      },
      "source": [
        "i = 1\n",
        "plt.imshow(f[i])"
      ],
      "execution_count": null,
      "outputs": [
        {
          "output_type": "error",
          "ename": "NameError",
          "evalue": "ignored",
          "traceback": [
            "\u001b[0;31m---------------------------------------------------------------------------\u001b[0m",
            "\u001b[0;31mNameError\u001b[0m                                 Traceback (most recent call last)",
            "\u001b[0;32m<ipython-input-8-50aed6c56c04>\u001b[0m in \u001b[0;36m<module>\u001b[0;34m()\u001b[0m\n\u001b[1;32m      1\u001b[0m \u001b[0mi\u001b[0m \u001b[0;34m=\u001b[0m \u001b[0;36m1\u001b[0m\u001b[0;34m\u001b[0m\u001b[0;34m\u001b[0m\u001b[0m\n\u001b[0;32m----> 2\u001b[0;31m \u001b[0mplt\u001b[0m\u001b[0;34m.\u001b[0m\u001b[0mimshow\u001b[0m\u001b[0;34m(\u001b[0m\u001b[0mf\u001b[0m\u001b[0;34m[\u001b[0m\u001b[0mi\u001b[0m\u001b[0;34m]\u001b[0m\u001b[0;34m)\u001b[0m\u001b[0;34m\u001b[0m\u001b[0;34m\u001b[0m\u001b[0m\n\u001b[0m",
            "\u001b[0;31mNameError\u001b[0m: name 'f' is not defined"
          ]
        }
      ]
    },
    {
      "cell_type": "code",
      "metadata": {
        "id": "zvXKFiDirbq9"
      },
      "source": [
        "final_image = np.zeros((330, 330, 3))\n",
        "for c in range(10):\n",
        "    class_images = X_train[Y_train.argmax(axis=-1) == c]\n",
        "    for i in range(10):\n",
        "        final_image[c * 33:c * 33 + 32, i * 33:i * 33 + 32, :] = class_images[i]\n",
        "\n",
        "plt.imshow(final_image)"
      ],
      "execution_count": null,
      "outputs": []
    },
    {
      "cell_type": "markdown",
      "metadata": {
        "id": "7bkd4bZ5u25b"
      },
      "source": [
        "# CNN Model"
      ]
    },
    {
      "cell_type": "code",
      "metadata": {
        "colab": {
          "base_uri": "https://localhost:8080/"
        },
        "id": "4jE3urKuu5b0",
        "outputId": "4e4bd845-39ec-429c-8cb1-26720fc8d4a6"
      },
      "source": [
        "model = Sequential()\n",
        "\n",
        "model.add(Conv2D(8, (3,3), padding='same', activation='relu', input_shape=(32, 32, 3)))\n",
        "model.add(MaxPool2D((2,2), strides=(2,2)))\n",
        "model.add(Dropout(0.2))\n",
        "\n",
        "model.add(Conv2D(16, (3,3), padding='same', activation='relu'))\n",
        "model.add(MaxPool2D((2,2), strides=(2,2)))\n",
        "model.add(Dropout(0.2))\n",
        "\n",
        "model.add(Conv2D(32, (3,3), padding='same', activation='relu'))\n",
        "model.add(MaxPool2D((2,2), strides=(2,2)))\n",
        "model.add(Dropout(0.2))\n",
        "\n",
        "model.add(Conv2D(64, (3,3), padding='same', activation='relu'))\n",
        "model.add(MaxPool2D((2,2), strides=(2,2)))\n",
        "model.add(Dropout(0.2))\n",
        "\n",
        "model.add(Flatten())\n",
        "\n",
        "model.add(Dense(10, activation='softmax'))\n",
        "\n",
        "model.summary()"
      ],
      "execution_count": null,
      "outputs": [
        {
          "output_type": "stream",
          "text": [
            "Model: \"sequential\"\n",
            "_________________________________________________________________\n",
            "Layer (type)                 Output Shape              Param #   \n",
            "=================================================================\n",
            "conv2d (Conv2D)              (None, 32, 32, 8)         224       \n",
            "_________________________________________________________________\n",
            "max_pooling2d (MaxPooling2D) (None, 16, 16, 8)         0         \n",
            "_________________________________________________________________\n",
            "dropout (Dropout)            (None, 16, 16, 8)         0         \n",
            "_________________________________________________________________\n",
            "conv2d_1 (Conv2D)            (None, 16, 16, 16)        1168      \n",
            "_________________________________________________________________\n",
            "max_pooling2d_1 (MaxPooling2 (None, 8, 8, 16)          0         \n",
            "_________________________________________________________________\n",
            "dropout_1 (Dropout)          (None, 8, 8, 16)          0         \n",
            "_________________________________________________________________\n",
            "conv2d_2 (Conv2D)            (None, 8, 8, 32)          4640      \n",
            "_________________________________________________________________\n",
            "max_pooling2d_2 (MaxPooling2 (None, 4, 4, 32)          0         \n",
            "_________________________________________________________________\n",
            "dropout_2 (Dropout)          (None, 4, 4, 32)          0         \n",
            "_________________________________________________________________\n",
            "conv2d_3 (Conv2D)            (None, 4, 4, 64)          18496     \n",
            "_________________________________________________________________\n",
            "max_pooling2d_3 (MaxPooling2 (None, 2, 2, 64)          0         \n",
            "_________________________________________________________________\n",
            "dropout_3 (Dropout)          (None, 2, 2, 64)          0         \n",
            "_________________________________________________________________\n",
            "flatten (Flatten)            (None, 256)               0         \n",
            "_________________________________________________________________\n",
            "dense (Dense)                (None, 10)                2570      \n",
            "=================================================================\n",
            "Total params: 27,098\n",
            "Trainable params: 27,098\n",
            "Non-trainable params: 0\n",
            "_________________________________________________________________\n"
          ],
          "name": "stdout"
        }
      ]
    },
    {
      "cell_type": "markdown",
      "metadata": {
        "id": "lTHxTJcjR8yd"
      },
      "source": [
        "input size = (32, 32, 3)\n",
        "filters count = 8\n",
        "kernel size = (3, 3)\n",
        "\n",
        "weights = 3 * 3 * 3 * 8 = 216\n",
        "biases = 8\n",
        "\n",
        "params = 216 + 8 = 224\n"
      ]
    },
    {
      "cell_type": "code",
      "metadata": {
        "id": "PtQqPId9vuY2"
      },
      "source": [
        "model.compile(optimizer='Adam', loss='categorical_crossentropy', metrics=['acc'])"
      ],
      "execution_count": null,
      "outputs": []
    },
    {
      "cell_type": "code",
      "metadata": {
        "colab": {
          "base_uri": "https://localhost:8080/"
        },
        "id": "4G5pVQi-wEsW",
        "outputId": "9be94309-08ee-447f-f299-fe3f231e7b4b"
      },
      "source": [
        "history = model.fit(X_train, Y_train, batch_size=32, epochs=60,\n",
        "                    validation_data=(X_val, Y_val))"
      ],
      "execution_count": null,
      "outputs": [
        {
          "output_type": "stream",
          "text": [
            "Epoch 1/60\n",
            "500/500 [==============================] - 33s 5ms/step - loss: 2.0194 - acc: 0.2501 - val_loss: 1.8336 - val_acc: 0.3133\n",
            "Epoch 2/60\n",
            "500/500 [==============================] - 2s 5ms/step - loss: 1.7467 - acc: 0.3544 - val_loss: 1.6375 - val_acc: 0.3952\n",
            "Epoch 3/60\n",
            "500/500 [==============================] - 2s 5ms/step - loss: 1.6250 - acc: 0.4031 - val_loss: 1.5165 - val_acc: 0.4495\n",
            "Epoch 4/60\n",
            "500/500 [==============================] - 2s 5ms/step - loss: 1.5562 - acc: 0.4306 - val_loss: 1.5871 - val_acc: 0.4372\n",
            "Epoch 5/60\n",
            "500/500 [==============================] - 2s 5ms/step - loss: 1.4965 - acc: 0.4539 - val_loss: 1.4029 - val_acc: 0.4933\n",
            "Epoch 6/60\n",
            "500/500 [==============================] - 2s 5ms/step - loss: 1.4513 - acc: 0.4702 - val_loss: 1.3792 - val_acc: 0.5027\n",
            "Epoch 7/60\n",
            "500/500 [==============================] - 2s 5ms/step - loss: 1.4299 - acc: 0.4784 - val_loss: 1.3569 - val_acc: 0.5123\n",
            "Epoch 8/60\n",
            "500/500 [==============================] - 3s 5ms/step - loss: 1.3988 - acc: 0.4953 - val_loss: 1.3142 - val_acc: 0.5430\n",
            "Epoch 9/60\n",
            "500/500 [==============================] - 3s 5ms/step - loss: 1.3725 - acc: 0.5052 - val_loss: 1.2991 - val_acc: 0.5293\n",
            "Epoch 10/60\n",
            "500/500 [==============================] - 3s 5ms/step - loss: 1.3556 - acc: 0.5082 - val_loss: 1.3038 - val_acc: 0.5335\n",
            "Epoch 11/60\n",
            "500/500 [==============================] - 3s 5ms/step - loss: 1.3300 - acc: 0.5167 - val_loss: 1.2554 - val_acc: 0.5455\n",
            "Epoch 12/60\n",
            "500/500 [==============================] - 3s 5ms/step - loss: 1.3049 - acc: 0.5308 - val_loss: 1.2647 - val_acc: 0.5497\n",
            "Epoch 13/60\n",
            "500/500 [==============================] - 3s 5ms/step - loss: 1.2983 - acc: 0.5344 - val_loss: 1.2252 - val_acc: 0.5770\n",
            "Epoch 14/60\n",
            "500/500 [==============================] - 3s 5ms/step - loss: 1.2758 - acc: 0.5346 - val_loss: 1.2176 - val_acc: 0.5673\n",
            "Epoch 15/60\n",
            "500/500 [==============================] - 3s 5ms/step - loss: 1.2684 - acc: 0.5419 - val_loss: 1.1927 - val_acc: 0.5757\n",
            "Epoch 16/60\n",
            "500/500 [==============================] - 3s 5ms/step - loss: 1.2515 - acc: 0.5512 - val_loss: 1.1757 - val_acc: 0.5860\n",
            "Epoch 17/60\n",
            "500/500 [==============================] - 2s 5ms/step - loss: 1.2364 - acc: 0.5526 - val_loss: 1.1688 - val_acc: 0.5903\n",
            "Epoch 18/60\n",
            "500/500 [==============================] - 2s 5ms/step - loss: 1.2323 - acc: 0.5521 - val_loss: 1.1962 - val_acc: 0.5732\n",
            "Epoch 19/60\n",
            "500/500 [==============================] - 2s 5ms/step - loss: 1.2151 - acc: 0.5579 - val_loss: 1.1442 - val_acc: 0.6005\n",
            "Epoch 20/60\n",
            "500/500 [==============================] - 3s 5ms/step - loss: 1.1927 - acc: 0.5688 - val_loss: 1.1298 - val_acc: 0.6010\n",
            "Epoch 21/60\n",
            "500/500 [==============================] - 2s 5ms/step - loss: 1.1992 - acc: 0.5690 - val_loss: 1.1094 - val_acc: 0.6085\n",
            "Epoch 22/60\n",
            "500/500 [==============================] - 2s 5ms/step - loss: 1.1871 - acc: 0.5794 - val_loss: 1.1303 - val_acc: 0.5987\n",
            "Epoch 23/60\n",
            "500/500 [==============================] - 2s 5ms/step - loss: 1.1719 - acc: 0.5729 - val_loss: 1.1158 - val_acc: 0.6102\n",
            "Epoch 24/60\n",
            "500/500 [==============================] - 2s 5ms/step - loss: 1.1699 - acc: 0.5774 - val_loss: 1.1066 - val_acc: 0.6175\n",
            "Epoch 25/60\n",
            "500/500 [==============================] - 2s 5ms/step - loss: 1.1619 - acc: 0.5823 - val_loss: 1.0998 - val_acc: 0.6143\n",
            "Epoch 26/60\n",
            "500/500 [==============================] - 2s 5ms/step - loss: 1.1575 - acc: 0.5860 - val_loss: 1.1516 - val_acc: 0.5957\n",
            "Epoch 27/60\n",
            "500/500 [==============================] - 2s 5ms/step - loss: 1.1534 - acc: 0.5838 - val_loss: 1.0881 - val_acc: 0.6198\n",
            "Epoch 28/60\n",
            "500/500 [==============================] - 2s 5ms/step - loss: 1.1471 - acc: 0.5827 - val_loss: 1.1065 - val_acc: 0.6108\n",
            "Epoch 29/60\n",
            "500/500 [==============================] - 2s 5ms/step - loss: 1.1372 - acc: 0.5881 - val_loss: 1.1022 - val_acc: 0.6175\n",
            "Epoch 30/60\n",
            "500/500 [==============================] - 2s 5ms/step - loss: 1.1259 - acc: 0.5914 - val_loss: 1.0670 - val_acc: 0.6250\n",
            "Epoch 31/60\n",
            "500/500 [==============================] - 2s 5ms/step - loss: 1.1300 - acc: 0.5913 - val_loss: 1.0749 - val_acc: 0.6202\n",
            "Epoch 32/60\n",
            "500/500 [==============================] - 2s 5ms/step - loss: 1.1219 - acc: 0.5969 - val_loss: 1.1094 - val_acc: 0.6077\n",
            "Epoch 33/60\n",
            "500/500 [==============================] - 3s 5ms/step - loss: 1.1157 - acc: 0.6014 - val_loss: 1.1171 - val_acc: 0.6060\n",
            "Epoch 34/60\n",
            "500/500 [==============================] - 3s 5ms/step - loss: 1.1065 - acc: 0.6003 - val_loss: 1.1046 - val_acc: 0.6145\n",
            "Epoch 35/60\n",
            "500/500 [==============================] - 3s 5ms/step - loss: 1.0988 - acc: 0.6026 - val_loss: 1.0556 - val_acc: 0.6255\n",
            "Epoch 36/60\n",
            "500/500 [==============================] - 3s 5ms/step - loss: 1.1067 - acc: 0.6022 - val_loss: 1.0831 - val_acc: 0.6112\n",
            "Epoch 37/60\n",
            "500/500 [==============================] - 3s 5ms/step - loss: 1.0964 - acc: 0.6057 - val_loss: 1.0549 - val_acc: 0.6210\n",
            "Epoch 38/60\n",
            "500/500 [==============================] - 3s 5ms/step - loss: 1.0998 - acc: 0.6047 - val_loss: 1.1200 - val_acc: 0.6058\n",
            "Epoch 39/60\n",
            "500/500 [==============================] - 3s 5ms/step - loss: 1.0877 - acc: 0.6078 - val_loss: 1.0822 - val_acc: 0.6160\n",
            "Epoch 40/60\n",
            "500/500 [==============================] - 3s 5ms/step - loss: 1.0785 - acc: 0.6104 - val_loss: 1.0557 - val_acc: 0.6275\n",
            "Epoch 41/60\n",
            "500/500 [==============================] - 3s 5ms/step - loss: 1.0778 - acc: 0.6145 - val_loss: 1.0775 - val_acc: 0.6192\n",
            "Epoch 42/60\n",
            "500/500 [==============================] - 3s 5ms/step - loss: 1.0841 - acc: 0.6118 - val_loss: 1.1014 - val_acc: 0.6168\n",
            "Epoch 43/60\n",
            "500/500 [==============================] - 3s 5ms/step - loss: 1.0796 - acc: 0.6104 - val_loss: 1.0516 - val_acc: 0.6280\n",
            "Epoch 44/60\n",
            "500/500 [==============================] - 2s 5ms/step - loss: 1.0727 - acc: 0.6127 - val_loss: 1.1017 - val_acc: 0.6140\n",
            "Epoch 45/60\n",
            "500/500 [==============================] - 2s 5ms/step - loss: 1.0805 - acc: 0.6119 - val_loss: 1.0693 - val_acc: 0.6258\n",
            "Epoch 46/60\n",
            "500/500 [==============================] - 3s 5ms/step - loss: 1.0702 - acc: 0.6151 - val_loss: 1.0480 - val_acc: 0.6283\n",
            "Epoch 47/60\n",
            "500/500 [==============================] - 2s 5ms/step - loss: 1.0668 - acc: 0.6173 - val_loss: 1.0351 - val_acc: 0.6332\n",
            "Epoch 48/60\n",
            "500/500 [==============================] - 2s 5ms/step - loss: 1.0638 - acc: 0.6176 - val_loss: 1.0485 - val_acc: 0.6215\n",
            "Epoch 49/60\n",
            "500/500 [==============================] - 2s 5ms/step - loss: 1.0627 - acc: 0.6216 - val_loss: 1.0867 - val_acc: 0.6215\n",
            "Epoch 50/60\n",
            "500/500 [==============================] - 2s 5ms/step - loss: 1.0550 - acc: 0.6184 - val_loss: 1.0443 - val_acc: 0.6320\n",
            "Epoch 51/60\n",
            "500/500 [==============================] - 2s 5ms/step - loss: 1.0589 - acc: 0.6178 - val_loss: 1.0618 - val_acc: 0.6237\n",
            "Epoch 52/60\n",
            "500/500 [==============================] - 2s 5ms/step - loss: 1.0550 - acc: 0.6221 - val_loss: 1.0613 - val_acc: 0.6177\n",
            "Epoch 53/60\n",
            "500/500 [==============================] - 2s 5ms/step - loss: 1.0448 - acc: 0.6187 - val_loss: 1.1087 - val_acc: 0.6083\n",
            "Epoch 54/60\n",
            "500/500 [==============================] - 2s 5ms/step - loss: 1.0420 - acc: 0.6224 - val_loss: 1.0247 - val_acc: 0.6385\n",
            "Epoch 55/60\n",
            "500/500 [==============================] - 2s 5ms/step - loss: 1.0444 - acc: 0.6249 - val_loss: 1.0970 - val_acc: 0.6148\n",
            "Epoch 56/60\n",
            "500/500 [==============================] - 2s 5ms/step - loss: 1.0397 - acc: 0.6294 - val_loss: 1.0674 - val_acc: 0.6237\n",
            "Epoch 57/60\n",
            "500/500 [==============================] - 3s 5ms/step - loss: 1.0334 - acc: 0.6282 - val_loss: 1.0801 - val_acc: 0.6273\n",
            "Epoch 58/60\n",
            "500/500 [==============================] - 2s 5ms/step - loss: 1.0333 - acc: 0.6279 - val_loss: 1.0951 - val_acc: 0.6145\n",
            "Epoch 59/60\n",
            "500/500 [==============================] - 2s 5ms/step - loss: 1.0365 - acc: 0.6311 - val_loss: 1.0562 - val_acc: 0.6292\n",
            "Epoch 60/60\n",
            "500/500 [==============================] - 3s 5ms/step - loss: 1.0181 - acc: 0.6332 - val_loss: 1.0517 - val_acc: 0.6352\n"
          ],
          "name": "stdout"
        }
      ]
    },
    {
      "cell_type": "code",
      "metadata": {
        "colab": {
          "base_uri": "https://localhost:8080/",
          "height": 282
        },
        "id": "1Ibd4FpzxYpY",
        "outputId": "a82d13ff-d62b-4c5d-f944-1b5aa6fe17fc"
      },
      "source": [
        "plt.plot(history.history['loss'], 'r-o')\n",
        "plt.plot(history.history['val_loss'], 'b--o')"
      ],
      "execution_count": null,
      "outputs": [
        {
          "output_type": "execute_result",
          "data": {
            "text/plain": [
              "[<matplotlib.lines.Line2D at 0x7fe36460ba50>]"
            ]
          },
          "metadata": {
            "tags": []
          },
          "execution_count": 11
        },
        {
          "output_type": "display_data",
          "data": {
            "image/png": "[encoded data removed]",
            "text/plain": [
              "<Figure size 432x288 with 1 Axes>"
            ]
          },
          "metadata": {
            "tags": [],
            "needs_background": "light"
          }
        }
      ]
    },
    {
      "cell_type": "code",
      "metadata": {
        "colab": {
          "base_uri": "https://localhost:8080/",
          "height": 282
        },
        "id": "vVvrnAJixwdp",
        "outputId": "7ced982a-81e1-4eac-ebc9-a3ea41c8ce78"
      },
      "source": [
        "plt.plot(history.history['acc'], 'r-o')\n",
        "plt.plot(history.history['val_acc'], 'b--o')"
      ],
      "execution_count": null,
      "outputs": [
        {
          "output_type": "execute_result",
          "data": {
            "text/plain": [
              "[<matplotlib.lines.Line2D at 0x7fe3640f4090>]"
            ]
          },
          "metadata": {
            "tags": []
          },
          "execution_count": 12
        },
        {
          "output_type": "display_data",
          "data": {
            "image/png": "[encoded data removed]",
            "text/plain": [
              "<Figure size 432x288 with 1 Axes>"
            ]
          },
          "metadata": {
            "tags": [],
            "needs_background": "light"
          }
        }
      ]
    },
    {
      "cell_type": "markdown",
      "metadata": {
        "id": "k-j6vrZ-1nMZ"
      },
      "source": [
        "# VGG net"
      ]
    },
    {
      "cell_type": "code",
      "metadata": {
        "colab": {
          "base_uri": "https://localhost:8080/"
        },
        "id": "WmNm69kX1qPZ",
        "outputId": "3696eace-d97b-4abe-fe62-603a32905696"
      },
      "source": [
        "model = Sequential()\n",
        "\n",
        "model.add(Conv2D(32, (3, 3), activation='relu', padding='same', input_shape=(32, 32, 3), kernel_regularizer=l2(0.001)))\n",
        "model.add(Conv2D(32, (3, 3), activation='relu', padding='same', kernel_regularizer=l2(0.001)))\n",
        "model.add(MaxPool2D((2, 2), strides=(2, 2)))\n",
        "model.add(Dropout(0.2))\n",
        "\n",
        "model.add(Conv2D(64, (3, 3), activation='relu', padding='same', kernel_regularizer=l2(0.001)))\n",
        "model.add(Conv2D(64, (3, 3), activation='relu', padding='same', kernel_regularizer=l2(0.001)))\n",
        "model.add(MaxPool2D((2, 2), strides=(2, 2)))\n",
        "model.add(Dropout(0.2))\n",
        "\n",
        "model.add(Conv2D(128, (3, 3), activation='relu', padding='same', kernel_regularizer=l2(0.001)))\n",
        "model.add(Conv2D(128, (3, 3), activation='relu', padding='same', kernel_regularizer=l2(0.001)))\n",
        "model.add(MaxPool2D((2, 2), strides=(2, 2)))\n",
        "model.add(Dropout(0.2))\n",
        "\n",
        "model.add(Flatten())\n",
        "\n",
        "model.add(Dense(128, activation='relu', kernel_regularizer=l2(0.001)))\n",
        "model.add(Dropout(0.1))\n",
        "model.add(Dense(10, activation='softmax'))\n",
        "\n",
        "model.summary()"
      ],
      "execution_count": null,
      "outputs": [
        {
          "output_type": "stream",
          "text": [
            "Model: \"sequential\"\n",
            "_________________________________________________________________\n",
            "Layer (type)                 Output Shape              Param #   \n",
            "=================================================================\n",
            "conv2d (Conv2D)              (None, 32, 32, 32)        896       \n",
            "_________________________________________________________________\n",
            "conv2d_1 (Conv2D)            (None, 32, 32, 32)        9248      \n",
            "_________________________________________________________________\n",
            "max_pooling2d (MaxPooling2D) (None, 16, 16, 32)        0         \n",
            "_________________________________________________________________\n",
            "dropout (Dropout)            (None, 16, 16, 32)        0         \n",
            "_________________________________________________________________\n",
            "conv2d_2 (Conv2D)            (None, 16, 16, 64)        18496     \n",
            "_________________________________________________________________\n",
            "conv2d_3 (Conv2D)            (None, 16, 16, 64)        36928     \n",
            "_________________________________________________________________\n",
            "max_pooling2d_1 (MaxPooling2 (None, 8, 8, 64)          0         \n",
            "_________________________________________________________________\n",
            "dropout_1 (Dropout)          (None, 8, 8, 64)          0         \n",
            "_________________________________________________________________\n",
            "conv2d_4 (Conv2D)            (None, 8, 8, 128)         73856     \n",
            "_________________________________________________________________\n",
            "conv2d_5 (Conv2D)            (None, 8, 8, 128)         147584    \n",
            "_________________________________________________________________\n",
            "max_pooling2d_2 (MaxPooling2 (None, 4, 4, 128)         0         \n",
            "_________________________________________________________________\n",
            "dropout_2 (Dropout)          (None, 4, 4, 128)         0         \n",
            "_________________________________________________________________\n",
            "flatten (Flatten)            (None, 2048)              0         \n",
            "_________________________________________________________________\n",
            "dense (Dense)                (None, 128)               262272    \n",
            "_________________________________________________________________\n",
            "dropout_3 (Dropout)          (None, 128)               0         \n",
            "_________________________________________________________________\n",
            "dense_1 (Dense)              (None, 10)                1290      \n",
            "=================================================================\n",
            "Total params: 550,570\n",
            "Trainable params: 550,570\n",
            "Non-trainable params: 0\n",
            "_________________________________________________________________\n"
          ],
          "name": "stdout"
        }
      ]
    },
    {
      "cell_type": "code",
      "metadata": {
        "id": "GOk9XlLt5Otx"
      },
      "source": [
        "model.compile(optimizer='Adam', loss='categorical_crossentropy', metrics=['acc'])"
      ],
      "execution_count": null,
      "outputs": []
    },
    {
      "cell_type": "code",
      "metadata": {
        "colab": {
          "base_uri": "https://localhost:8080/"
        },
        "id": "ZRYpZbTG5diR",
        "outputId": "fa42b6c9-cf9d-420d-925f-731298c84047"
      },
      "source": [
        "history = model.fit(X_train, Y_train, batch_size=32, epochs=20, validation_data=(X_val, Y_val))"
      ],
      "execution_count": null,
      "outputs": [
        {
          "output_type": "stream",
          "text": [
            "Epoch 1/20\n",
            "500/500 [==============================] - 3s 6ms/step - loss: 1.0658 - acc: 0.7100 - val_loss: 1.1587 - val_acc: 0.6852\n",
            "Epoch 2/20\n",
            "500/500 [==============================] - 3s 6ms/step - loss: 1.0652 - acc: 0.7120 - val_loss: 1.1276 - val_acc: 0.6985\n",
            "Epoch 3/20\n",
            "500/500 [==============================] - 3s 6ms/step - loss: 1.0481 - acc: 0.7262 - val_loss: 1.1373 - val_acc: 0.7005\n",
            "Epoch 4/20\n",
            "500/500 [==============================] - 3s 6ms/step - loss: 1.0396 - acc: 0.7284 - val_loss: 1.0911 - val_acc: 0.7140\n",
            "Epoch 5/20\n",
            "500/500 [==============================] - 3s 6ms/step - loss: 1.0344 - acc: 0.7332 - val_loss: 1.1671 - val_acc: 0.6890\n",
            "Epoch 6/20\n",
            "500/500 [==============================] - 3s 6ms/step - loss: 1.0198 - acc: 0.7371 - val_loss: 1.1524 - val_acc: 0.6970\n",
            "Epoch 7/20\n",
            "500/500 [==============================] - 3s 6ms/step - loss: 1.0160 - acc: 0.7376 - val_loss: 1.1886 - val_acc: 0.6890\n",
            "Epoch 8/20\n",
            "500/500 [==============================] - 3s 6ms/step - loss: 1.0169 - acc: 0.7411 - val_loss: 1.0978 - val_acc: 0.7145\n",
            "Epoch 9/20\n",
            "500/500 [==============================] - 3s 6ms/step - loss: 0.9982 - acc: 0.7484 - val_loss: 1.2552 - val_acc: 0.6777\n",
            "Epoch 10/20\n",
            "500/500 [==============================] - 3s 6ms/step - loss: 1.0063 - acc: 0.7473 - val_loss: 1.0928 - val_acc: 0.7230\n",
            "Epoch 11/20\n",
            "500/500 [==============================] - 3s 6ms/step - loss: 0.9891 - acc: 0.7506 - val_loss: 1.0805 - val_acc: 0.7230\n",
            "Epoch 12/20\n",
            "500/500 [==============================] - 3s 6ms/step - loss: 0.9821 - acc: 0.7580 - val_loss: 1.1301 - val_acc: 0.7122\n",
            "Epoch 13/20\n",
            "500/500 [==============================] - 3s 6ms/step - loss: 0.9880 - acc: 0.7566 - val_loss: 1.1227 - val_acc: 0.7115\n",
            "Epoch 14/20\n",
            "500/500 [==============================] - 3s 6ms/step - loss: 0.9762 - acc: 0.7609 - val_loss: 1.1528 - val_acc: 0.7205\n",
            "Epoch 15/20\n",
            "500/500 [==============================] - 3s 6ms/step - loss: 0.9762 - acc: 0.7638 - val_loss: 1.0945 - val_acc: 0.7240\n",
            "Epoch 16/20\n",
            "500/500 [==============================] - 3s 6ms/step - loss: 0.9796 - acc: 0.7612 - val_loss: 1.1079 - val_acc: 0.7243\n",
            "Epoch 17/20\n",
            "500/500 [==============================] - 3s 6ms/step - loss: 0.9652 - acc: 0.7676 - val_loss: 1.0824 - val_acc: 0.7383\n",
            "Epoch 18/20\n",
            "500/500 [==============================] - 3s 6ms/step - loss: 0.9598 - acc: 0.7727 - val_loss: 1.1077 - val_acc: 0.7268\n",
            "Epoch 19/20\n",
            "500/500 [==============================] - 3s 6ms/step - loss: 0.9609 - acc: 0.7711 - val_loss: 1.0924 - val_acc: 0.7400\n",
            "Epoch 20/20\n",
            "500/500 [==============================] - 3s 6ms/step - loss: 0.9468 - acc: 0.7724 - val_loss: 1.1379 - val_acc: 0.7220\n"
          ],
          "name": "stdout"
        }
      ]
    },
    {
      "cell_type": "code",
      "metadata": {
        "id": "qM91zA2r5u50"
      },
      "source": [
        "plt.plot(history.history['loss'], 'r-o')\n",
        "plt.plot(history.history['val_loss'], 'b--o')"
      ],
      "execution_count": null,
      "outputs": []
    },
    {
      "cell_type": "code",
      "metadata": {
        "id": "43_HAd6S5y-7"
      },
      "source": [
        "plt.plot(history.history['acc'], 'r-o')\n",
        "plt.plot(history.history['val_acc'], 'b--o')"
      ],
      "execution_count": null,
      "outputs": []
    },
    {
      "cell_type": "code",
      "metadata": {
        "id": "2GA68o5269eQ",
        "colab": {
          "base_uri": "https://localhost:8080/"
        },
        "outputId": "7367eae3-1a8a-431e-e4b5-060e71e84168"
      },
      "source": [
        "model.evaluate(X_test, Y_test)"
      ],
      "execution_count": null,
      "outputs": [
        {
          "output_type": "stream",
          "text": [
            "313/313 [==============================] - 2s 4ms/step - loss: 1.1220 - acc: 0.7246\n"
          ],
          "name": "stdout"
        },
        {
          "output_type": "execute_result",
          "data": {
            "text/plain": [
              "[1.1219911575317383, 0.7246000170707703]"
            ]
          },
          "metadata": {
            "tags": []
          },
          "execution_count": 15
        }
      ]
    },
    {
      "cell_type": "code",
      "metadata": {
        "colab": {
          "base_uri": "https://localhost:8080/"
        },
        "id": "R4G8RRrhj91o",
        "outputId": "98679dd1-4178-49ef-cd29-698fabdf70d3"
      },
      "source": [
        "model.evaluate(X_val, Y_val)"
      ],
      "execution_count": null,
      "outputs": [
        {
          "output_type": "stream",
          "text": [
            "125/125 [==============================] - 0s 3ms/step - loss: 1.1379 - acc: 0.7220\n"
          ],
          "name": "stdout"
        },
        {
          "output_type": "execute_result",
          "data": {
            "text/plain": [
              "[1.1378703117370605, 0.722000002861023]"
            ]
          },
          "metadata": {
            "tags": []
          },
          "execution_count": 16
        }
      ]
    },
    {
      "cell_type": "code",
      "metadata": {
        "id": "SxA-ki6FkCfq"
      },
      "source": [
        ""
      ],
      "execution_count": null,
      "outputs": []
    }
  ]
}